{
  "nbformat": 4,
  "nbformat_minor": 0,
  "metadata": {
    "colab": {
      "name": "KMeans-RFMLt.ipynb",
      "provenance": [],
      "collapsed_sections": []
    },
    "kernelspec": {
      "name": "python3",
      "display_name": "Python 3"
    },
    "accelerator": "GPU"
  },
  "cells": [
    {
      "cell_type": "markdown",
      "metadata": {
        "id": "nB94Bv3f1siH"
      },
      "source": [
        "# Overview\n",
        "\n",
        "The purpose of this case is to classify customers using transactional data to create Recency, Frequency, Monetary and Lifetime Value. These four metrics will be used as dimensions for KMeans algorithm to define customer segments, for better customer relationship management."
      ]
    },
    {
      "cell_type": "code",
      "metadata": {
        "id": "8kdtR4pH4sob"
      },
      "source": [
        "import pandas as pd\n",
        "import numpy as np\n",
        "import matplotlib.pyplot as plt\n",
        "import datetime as dt\n",
        "import seaborn as sns\n",
        "from sklearn.preprocessing import RobustScaler\n",
        "from sklearn.cluster import KMeans"
      ],
      "execution_count": null,
      "outputs": []
    },
    {
      "cell_type": "code",
      "metadata": {
        "colab": {
          "base_uri": "https://localhost:8080/",
          "height": 289
        },
        "id": "KmA7aUGo45U-",
        "outputId": "9fee07af-6fbf-4a4d-f814-d65dd6dbbba0"
      },
      "source": [
        "data = pd.read_excel('OnlineRetail.xlsx')\n",
        "data.head()"
      ],
      "execution_count": null,
      "outputs": [
        {
          "output_type": "execute_result",
          "data": {
            "text/html": [
              "<div>\n",
              "<style scoped>\n",
              "    .dataframe tbody tr th:only-of-type {\n",
              "        vertical-align: middle;\n",
              "    }\n",
              "\n",
              "    .dataframe tbody tr th {\n",
              "        vertical-align: top;\n",
              "    }\n",
              "\n",
              "    .dataframe thead th {\n",
              "        text-align: right;\n",
              "    }\n",
              "</style>\n",
              "<table border=\"1\" class=\"dataframe\">\n",
              "  <thead>\n",
              "    <tr style=\"text-align: right;\">\n",
              "      <th></th>\n",
              "      <th>InvoiceNo</th>\n",
              "      <th>StockCode</th>\n",
              "      <th>Description</th>\n",
              "      <th>Quantity</th>\n",
              "      <th>InvoiceDate</th>\n",
              "      <th>UnitPrice</th>\n",
              "      <th>CustomerID</th>\n",
              "      <th>Country</th>\n",
              "    </tr>\n",
              "  </thead>\n",
              "  <tbody>\n",
              "    <tr>\n",
              "      <th>0</th>\n",
              "      <td>536365</td>\n",
              "      <td>85123A</td>\n",
              "      <td>WHITE HANGING HEART T-LIGHT HOLDER</td>\n",
              "      <td>6</td>\n",
              "      <td>2010-12-01 08:26:00</td>\n",
              "      <td>2.55</td>\n",
              "      <td>17850.0</td>\n",
              "      <td>United Kingdom</td>\n",
              "    </tr>\n",
              "    <tr>\n",
              "      <th>1</th>\n",
              "      <td>536365</td>\n",
              "      <td>71053</td>\n",
              "      <td>WHITE METAL LANTERN</td>\n",
              "      <td>6</td>\n",
              "      <td>2010-12-01 08:26:00</td>\n",
              "      <td>3.39</td>\n",
              "      <td>17850.0</td>\n",
              "      <td>United Kingdom</td>\n",
              "    </tr>\n",
              "    <tr>\n",
              "      <th>2</th>\n",
              "      <td>536365</td>\n",
              "      <td>84406B</td>\n",
              "      <td>CREAM CUPID HEARTS COAT HANGER</td>\n",
              "      <td>8</td>\n",
              "      <td>2010-12-01 08:26:00</td>\n",
              "      <td>2.75</td>\n",
              "      <td>17850.0</td>\n",
              "      <td>United Kingdom</td>\n",
              "    </tr>\n",
              "    <tr>\n",
              "      <th>3</th>\n",
              "      <td>536365</td>\n",
              "      <td>84029G</td>\n",
              "      <td>KNITTED UNION FLAG HOT WATER BOTTLE</td>\n",
              "      <td>6</td>\n",
              "      <td>2010-12-01 08:26:00</td>\n",
              "      <td>3.39</td>\n",
              "      <td>17850.0</td>\n",
              "      <td>United Kingdom</td>\n",
              "    </tr>\n",
              "    <tr>\n",
              "      <th>4</th>\n",
              "      <td>536365</td>\n",
              "      <td>84029E</td>\n",
              "      <td>RED WOOLLY HOTTIE WHITE HEART.</td>\n",
              "      <td>6</td>\n",
              "      <td>2010-12-01 08:26:00</td>\n",
              "      <td>3.39</td>\n",
              "      <td>17850.0</td>\n",
              "      <td>United Kingdom</td>\n",
              "    </tr>\n",
              "  </tbody>\n",
              "</table>\n",
              "</div>"
            ],
            "text/plain": [
              "  InvoiceNo StockCode  ... CustomerID         Country\n",
              "0    536365    85123A  ...    17850.0  United Kingdom\n",
              "1    536365     71053  ...    17850.0  United Kingdom\n",
              "2    536365    84406B  ...    17850.0  United Kingdom\n",
              "3    536365    84029G  ...    17850.0  United Kingdom\n",
              "4    536365    84029E  ...    17850.0  United Kingdom\n",
              "\n",
              "[5 rows x 8 columns]"
            ]
          },
          "metadata": {
            "tags": []
          },
          "execution_count": 2
        }
      ]
    },
    {
      "cell_type": "code",
      "metadata": {
        "colab": {
          "base_uri": "https://localhost:8080/"
        },
        "id": "suU-sms-5Dc_",
        "outputId": "01d27063-eefe-4d30-d503-6e8d96fcd6d7"
      },
      "source": [
        "print(data.shape)\n",
        "print(data.info)"
      ],
      "execution_count": null,
      "outputs": [
        {
          "output_type": "stream",
          "text": [
            "(541909, 8)\n",
            "<bound method DataFrame.info of        InvoiceNo StockCode  ... CustomerID         Country\n",
            "0         536365    85123A  ...    17850.0  United Kingdom\n",
            "1         536365     71053  ...    17850.0  United Kingdom\n",
            "2         536365    84406B  ...    17850.0  United Kingdom\n",
            "3         536365    84029G  ...    17850.0  United Kingdom\n",
            "4         536365    84029E  ...    17850.0  United Kingdom\n",
            "...          ...       ...  ...        ...             ...\n",
            "541904    581587     22613  ...    12680.0          France\n",
            "541905    581587     22899  ...    12680.0          France\n",
            "541906    581587     23254  ...    12680.0          France\n",
            "541907    581587     23255  ...    12680.0          France\n",
            "541908    581587     22138  ...    12680.0          France\n",
            "\n",
            "[541909 rows x 8 columns]>\n"
          ],
          "name": "stdout"
        }
      ]
    },
    {
      "cell_type": "markdown",
      "metadata": {
        "id": "oaXwXunL5Zzy"
      },
      "source": [
        "Some quick insights:\n",
        "- There is roughly half a million records with 7 columns.\n",
        "- The data are based on transactions, where each row is a transaction (InvoiceNo), product (StockCode) pair.\n",
        "- This pair is the pk, in addition to it there is quantity, price and date info, which is constant across all transactions. \n",
        "- There is also country of order and product description."
      ]
    },
    {
      "cell_type": "code",
      "metadata": {
        "colab": {
          "base_uri": "https://localhost:8080/",
          "height": 1000
        },
        "id": "jpP-QYWL5JYI",
        "outputId": "ecab296c-ef1f-464c-de13-4da6e1a75d1a"
      },
      "source": [
        "data_no_dup=data[['Country','CustomerID']].drop_duplicates()\n",
        "country_count = data_no_dup.groupby(['Country'])['CustomerID'].aggregate('count').reset_index().sort_values('CustomerID', ascending=False)\n",
        "country_count.columns = ['Country', 'Number of Customers']\n",
        "country_count"
      ],
      "execution_count": null,
      "outputs": [
        {
          "output_type": "execute_result",
          "data": {
            "text/html": [
              "<div>\n",
              "<style scoped>\n",
              "    .dataframe tbody tr th:only-of-type {\n",
              "        vertical-align: middle;\n",
              "    }\n",
              "\n",
              "    .dataframe tbody tr th {\n",
              "        vertical-align: top;\n",
              "    }\n",
              "\n",
              "    .dataframe thead th {\n",
              "        text-align: right;\n",
              "    }\n",
              "</style>\n",
              "<table border=\"1\" class=\"dataframe\">\n",
              "  <thead>\n",
              "    <tr style=\"text-align: right;\">\n",
              "      <th></th>\n",
              "      <th>Country</th>\n",
              "      <th>Number of Customers</th>\n",
              "    </tr>\n",
              "  </thead>\n",
              "  <tbody>\n",
              "    <tr>\n",
              "      <th>36</th>\n",
              "      <td>United Kingdom</td>\n",
              "      <td>3950</td>\n",
              "    </tr>\n",
              "    <tr>\n",
              "      <th>14</th>\n",
              "      <td>Germany</td>\n",
              "      <td>95</td>\n",
              "    </tr>\n",
              "    <tr>\n",
              "      <th>13</th>\n",
              "      <td>France</td>\n",
              "      <td>87</td>\n",
              "    </tr>\n",
              "    <tr>\n",
              "      <th>31</th>\n",
              "      <td>Spain</td>\n",
              "      <td>31</td>\n",
              "    </tr>\n",
              "    <tr>\n",
              "      <th>3</th>\n",
              "      <td>Belgium</td>\n",
              "      <td>25</td>\n",
              "    </tr>\n",
              "    <tr>\n",
              "      <th>33</th>\n",
              "      <td>Switzerland</td>\n",
              "      <td>21</td>\n",
              "    </tr>\n",
              "    <tr>\n",
              "      <th>27</th>\n",
              "      <td>Portugal</td>\n",
              "      <td>19</td>\n",
              "    </tr>\n",
              "    <tr>\n",
              "      <th>19</th>\n",
              "      <td>Italy</td>\n",
              "      <td>15</td>\n",
              "    </tr>\n",
              "    <tr>\n",
              "      <th>12</th>\n",
              "      <td>Finland</td>\n",
              "      <td>12</td>\n",
              "    </tr>\n",
              "    <tr>\n",
              "      <th>1</th>\n",
              "      <td>Austria</td>\n",
              "      <td>11</td>\n",
              "    </tr>\n",
              "    <tr>\n",
              "      <th>25</th>\n",
              "      <td>Norway</td>\n",
              "      <td>10</td>\n",
              "    </tr>\n",
              "    <tr>\n",
              "      <th>24</th>\n",
              "      <td>Netherlands</td>\n",
              "      <td>9</td>\n",
              "    </tr>\n",
              "    <tr>\n",
              "      <th>0</th>\n",
              "      <td>Australia</td>\n",
              "      <td>9</td>\n",
              "    </tr>\n",
              "    <tr>\n",
              "      <th>6</th>\n",
              "      <td>Channel Islands</td>\n",
              "      <td>9</td>\n",
              "    </tr>\n",
              "    <tr>\n",
              "      <th>9</th>\n",
              "      <td>Denmark</td>\n",
              "      <td>9</td>\n",
              "    </tr>\n",
              "    <tr>\n",
              "      <th>7</th>\n",
              "      <td>Cyprus</td>\n",
              "      <td>8</td>\n",
              "    </tr>\n",
              "    <tr>\n",
              "      <th>32</th>\n",
              "      <td>Sweden</td>\n",
              "      <td>8</td>\n",
              "    </tr>\n",
              "    <tr>\n",
              "      <th>20</th>\n",
              "      <td>Japan</td>\n",
              "      <td>8</td>\n",
              "    </tr>\n",
              "    <tr>\n",
              "      <th>26</th>\n",
              "      <td>Poland</td>\n",
              "      <td>6</td>\n",
              "    </tr>\n",
              "    <tr>\n",
              "      <th>34</th>\n",
              "      <td>USA</td>\n",
              "      <td>4</td>\n",
              "    </tr>\n",
              "    <tr>\n",
              "      <th>5</th>\n",
              "      <td>Canada</td>\n",
              "      <td>4</td>\n",
              "    </tr>\n",
              "    <tr>\n",
              "      <th>37</th>\n",
              "      <td>Unspecified</td>\n",
              "      <td>4</td>\n",
              "    </tr>\n",
              "    <tr>\n",
              "      <th>18</th>\n",
              "      <td>Israel</td>\n",
              "      <td>4</td>\n",
              "    </tr>\n",
              "    <tr>\n",
              "      <th>15</th>\n",
              "      <td>Greece</td>\n",
              "      <td>4</td>\n",
              "    </tr>\n",
              "    <tr>\n",
              "      <th>10</th>\n",
              "      <td>EIRE</td>\n",
              "      <td>3</td>\n",
              "    </tr>\n",
              "    <tr>\n",
              "      <th>23</th>\n",
              "      <td>Malta</td>\n",
              "      <td>2</td>\n",
              "    </tr>\n",
              "    <tr>\n",
              "      <th>35</th>\n",
              "      <td>United Arab Emirates</td>\n",
              "      <td>2</td>\n",
              "    </tr>\n",
              "    <tr>\n",
              "      <th>2</th>\n",
              "      <td>Bahrain</td>\n",
              "      <td>2</td>\n",
              "    </tr>\n",
              "    <tr>\n",
              "      <th>22</th>\n",
              "      <td>Lithuania</td>\n",
              "      <td>1</td>\n",
              "    </tr>\n",
              "    <tr>\n",
              "      <th>8</th>\n",
              "      <td>Czech Republic</td>\n",
              "      <td>1</td>\n",
              "    </tr>\n",
              "    <tr>\n",
              "      <th>21</th>\n",
              "      <td>Lebanon</td>\n",
              "      <td>1</td>\n",
              "    </tr>\n",
              "    <tr>\n",
              "      <th>28</th>\n",
              "      <td>RSA</td>\n",
              "      <td>1</td>\n",
              "    </tr>\n",
              "    <tr>\n",
              "      <th>29</th>\n",
              "      <td>Saudi Arabia</td>\n",
              "      <td>1</td>\n",
              "    </tr>\n",
              "    <tr>\n",
              "      <th>30</th>\n",
              "      <td>Singapore</td>\n",
              "      <td>1</td>\n",
              "    </tr>\n",
              "    <tr>\n",
              "      <th>17</th>\n",
              "      <td>Iceland</td>\n",
              "      <td>1</td>\n",
              "    </tr>\n",
              "    <tr>\n",
              "      <th>4</th>\n",
              "      <td>Brazil</td>\n",
              "      <td>1</td>\n",
              "    </tr>\n",
              "    <tr>\n",
              "      <th>11</th>\n",
              "      <td>European Community</td>\n",
              "      <td>1</td>\n",
              "    </tr>\n",
              "    <tr>\n",
              "      <th>16</th>\n",
              "      <td>Hong Kong</td>\n",
              "      <td>0</td>\n",
              "    </tr>\n",
              "  </tbody>\n",
              "</table>\n",
              "</div>"
            ],
            "text/plain": [
              "                 Country  Number of Customers\n",
              "36        United Kingdom                 3950\n",
              "14               Germany                   95\n",
              "13                France                   87\n",
              "31                 Spain                   31\n",
              "3                Belgium                   25\n",
              "33           Switzerland                   21\n",
              "27              Portugal                   19\n",
              "19                 Italy                   15\n",
              "12               Finland                   12\n",
              "1                Austria                   11\n",
              "25                Norway                   10\n",
              "24           Netherlands                    9\n",
              "0              Australia                    9\n",
              "6        Channel Islands                    9\n",
              "9                Denmark                    9\n",
              "7                 Cyprus                    8\n",
              "32                Sweden                    8\n",
              "20                 Japan                    8\n",
              "26                Poland                    6\n",
              "34                   USA                    4\n",
              "5                 Canada                    4\n",
              "37           Unspecified                    4\n",
              "18                Israel                    4\n",
              "15                Greece                    4\n",
              "10                  EIRE                    3\n",
              "23                 Malta                    2\n",
              "35  United Arab Emirates                    2\n",
              "2                Bahrain                    2\n",
              "22             Lithuania                    1\n",
              "8         Czech Republic                    1\n",
              "21               Lebanon                    1\n",
              "28                   RSA                    1\n",
              "29          Saudi Arabia                    1\n",
              "30             Singapore                    1\n",
              "17               Iceland                    1\n",
              "4                 Brazil                    1\n",
              "11    European Community                    1\n",
              "16             Hong Kong                    0"
            ]
          },
          "metadata": {
            "tags": []
          },
          "execution_count": 4
        }
      ]
    },
    {
      "cell_type": "markdown",
      "metadata": {
        "id": "gKvGzjdE6U5k"
      },
      "source": [
        "- UK has majority of cases.\n",
        "- There are 4 'unspecified' cases."
      ]
    },
    {
      "cell_type": "code",
      "metadata": {
        "colab": {
          "base_uri": "https://localhost:8080/"
        },
        "id": "mHDSSk766I3B",
        "outputId": "ccbec9d2-97e8-4d06-ef76-7419c0dfec21"
      },
      "source": [
        "data.isnull().sum()"
      ],
      "execution_count": null,
      "outputs": [
        {
          "output_type": "execute_result",
          "data": {
            "text/plain": [
              "InvoiceNo           0\n",
              "StockCode           0\n",
              "Description      1454\n",
              "Quantity            0\n",
              "InvoiceDate         0\n",
              "UnitPrice           0\n",
              "CustomerID     135080\n",
              "Country             0\n",
              "dtype: int64"
            ]
          },
          "metadata": {
            "tags": []
          },
          "execution_count": 5
        }
      ]
    },
    {
      "cell_type": "markdown",
      "metadata": {
        "id": "SyJA4tWS6fyQ"
      },
      "source": [
        "- CustomerID has 135080 missing values and description has 1454.\n",
        "- CustomerID is an issue, description not as much.\n"
      ]
    },
    {
      "cell_type": "markdown",
      "metadata": {
        "id": "XbOcyH5O6dpc"
      },
      "source": [
        "# Data Preprocessing"
      ]
    },
    {
      "cell_type": "code",
      "metadata": {
        "colab": {
          "base_uri": "https://localhost:8080/"
        },
        "id": "fjoExZxf6rvD",
        "outputId": "cb30494c-e859-4b8d-aeea-92b00230fd71"
      },
      "source": [
        "data_copy = data.copy()\n",
        "data_copy.dropna(inplace=True)\n",
        "data_copy.isnull().sum()"
      ],
      "execution_count": null,
      "outputs": [
        {
          "output_type": "execute_result",
          "data": {
            "text/plain": [
              "InvoiceNo      0\n",
              "StockCode      0\n",
              "Description    0\n",
              "Quantity       0\n",
              "InvoiceDate    0\n",
              "UnitPrice      0\n",
              "CustomerID     0\n",
              "Country        0\n",
              "dtype: int64"
            ]
          },
          "metadata": {
            "tags": []
          },
          "execution_count": 6
        }
      ]
    },
    {
      "cell_type": "code",
      "metadata": {
        "colab": {
          "base_uri": "https://localhost:8080/"
        },
        "id": "igm7x12z8T0c",
        "outputId": "73197c18-1d5a-494b-da22-7ad4e35cbb37"
      },
      "source": [
        "data_copy.info()"
      ],
      "execution_count": null,
      "outputs": [
        {
          "output_type": "stream",
          "text": [
            "<class 'pandas.core.frame.DataFrame'>\n",
            "Int64Index: 406829 entries, 0 to 541908\n",
            "Data columns (total 8 columns):\n",
            " #   Column       Non-Null Count   Dtype         \n",
            "---  ------       --------------   -----         \n",
            " 0   InvoiceNo    406829 non-null  object        \n",
            " 1   StockCode    406829 non-null  object        \n",
            " 2   Description  406829 non-null  object        \n",
            " 3   Quantity     406829 non-null  int64         \n",
            " 4   InvoiceDate  406829 non-null  datetime64[ns]\n",
            " 5   UnitPrice    406829 non-null  float64       \n",
            " 6   CustomerID   406829 non-null  float64       \n",
            " 7   Country      406829 non-null  object        \n",
            "dtypes: datetime64[ns](1), float64(2), int64(1), object(4)\n",
            "memory usage: 27.9+ MB\n"
          ],
          "name": "stdout"
        }
      ]
    },
    {
      "cell_type": "markdown",
      "metadata": {
        "id": "ngnUXjoi8YAu"
      },
      "source": [
        "Explore any unusualities in numerical variables"
      ]
    },
    {
      "cell_type": "code",
      "metadata": {
        "colab": {
          "base_uri": "https://localhost:8080/"
        },
        "id": "hzYFU_xX9UwQ",
        "outputId": "cc1b1a09-bf2b-41cc-ea2f-9c8c81457899"
      },
      "source": [
        "num_vars = []\n",
        "for n in data_copy.columns:\n",
        "    if data_copy[n].dtype in ['int64', 'float64']:\n",
        "        num_vars.append(n)\n",
        "num_vars"
      ],
      "execution_count": null,
      "outputs": [
        {
          "output_type": "execute_result",
          "data": {
            "text/plain": [
              "['Quantity', 'UnitPrice', 'CustomerID']"
            ]
          },
          "metadata": {
            "tags": []
          },
          "execution_count": 8
        }
      ]
    },
    {
      "cell_type": "code",
      "metadata": {
        "colab": {
          "base_uri": "https://localhost:8080/",
          "height": 851
        },
        "id": "WkBXUVDw9y9g",
        "outputId": "438abe79-ed27-415b-9e49-f3b3fe3a32ab"
      },
      "source": [
        "import seaborn as sns\n",
        "\n",
        "for n in num_vars:\n",
        "    plt.title(n)\n",
        "    sns.boxplot(x=data_copy[n])\n",
        "    plt.show()"
      ],
      "execution_count": null,
      "outputs": [
        {
          "output_type": "display_data",
          "data": {
            "image/png": "[encoded data removed]",
            "text/plain": [
              "<Figure size 432x288 with 1 Axes>"
            ]
          },
          "metadata": {
            "tags": [],
            "needs_background": "light"
          }
        },
        {
          "output_type": "display_data",
          "data": {
            "image/png": "[encoded data removed]",
            "text/plain": [
              "<Figure size 432x288 with 1 Axes>"
            ]
          },
          "metadata": {
            "tags": [],
            "needs_background": "light"
          }
        },
        {
          "output_type": "display_data",
          "data": {
            "image/png": "[encoded data removed]",
            "text/plain": [
              "<Figure size 432x288 with 1 Axes>"
            ]
          },
          "metadata": {
            "tags": [],
            "needs_background": "light"
          }
        }
      ]
    },
    {
      "cell_type": "code",
      "metadata": {
        "colab": {
          "base_uri": "https://localhost:8080/",
          "height": 297
        },
        "id": "d1l4MsfU-j1_",
        "outputId": "166d6a47-bcd4-4d52-9e10-a57f9a5263c3"
      },
      "source": [
        "data_copy.describe()"
      ],
      "execution_count": null,
      "outputs": [
        {
          "output_type": "execute_result",
          "data": {
            "text/html": [
              "<div>\n",
              "<style scoped>\n",
              "    .dataframe tbody tr th:only-of-type {\n",
              "        vertical-align: middle;\n",
              "    }\n",
              "\n",
              "    .dataframe tbody tr th {\n",
              "        vertical-align: top;\n",
              "    }\n",
              "\n",
              "    .dataframe thead th {\n",
              "        text-align: right;\n",
              "    }\n",
              "</style>\n",
              "<table border=\"1\" class=\"dataframe\">\n",
              "  <thead>\n",
              "    <tr style=\"text-align: right;\">\n",
              "      <th></th>\n",
              "      <th>Quantity</th>\n",
              "      <th>UnitPrice</th>\n",
              "      <th>CustomerID</th>\n",
              "    </tr>\n",
              "  </thead>\n",
              "  <tbody>\n",
              "    <tr>\n",
              "      <th>count</th>\n",
              "      <td>406829.000000</td>\n",
              "      <td>406829.000000</td>\n",
              "      <td>406829.000000</td>\n",
              "    </tr>\n",
              "    <tr>\n",
              "      <th>mean</th>\n",
              "      <td>12.061303</td>\n",
              "      <td>3.460471</td>\n",
              "      <td>15287.690570</td>\n",
              "    </tr>\n",
              "    <tr>\n",
              "      <th>std</th>\n",
              "      <td>248.693370</td>\n",
              "      <td>69.315162</td>\n",
              "      <td>1713.600303</td>\n",
              "    </tr>\n",
              "    <tr>\n",
              "      <th>min</th>\n",
              "      <td>-80995.000000</td>\n",
              "      <td>0.000000</td>\n",
              "      <td>12346.000000</td>\n",
              "    </tr>\n",
              "    <tr>\n",
              "      <th>25%</th>\n",
              "      <td>2.000000</td>\n",
              "      <td>1.250000</td>\n",
              "      <td>13953.000000</td>\n",
              "    </tr>\n",
              "    <tr>\n",
              "      <th>50%</th>\n",
              "      <td>5.000000</td>\n",
              "      <td>1.950000</td>\n",
              "      <td>15152.000000</td>\n",
              "    </tr>\n",
              "    <tr>\n",
              "      <th>75%</th>\n",
              "      <td>12.000000</td>\n",
              "      <td>3.750000</td>\n",
              "      <td>16791.000000</td>\n",
              "    </tr>\n",
              "    <tr>\n",
              "      <th>max</th>\n",
              "      <td>80995.000000</td>\n",
              "      <td>38970.000000</td>\n",
              "      <td>18287.000000</td>\n",
              "    </tr>\n",
              "  </tbody>\n",
              "</table>\n",
              "</div>"
            ],
            "text/plain": [
              "            Quantity      UnitPrice     CustomerID\n",
              "count  406829.000000  406829.000000  406829.000000\n",
              "mean       12.061303       3.460471   15287.690570\n",
              "std       248.693370      69.315162    1713.600303\n",
              "min    -80995.000000       0.000000   12346.000000\n",
              "25%         2.000000       1.250000   13953.000000\n",
              "50%         5.000000       1.950000   15152.000000\n",
              "75%        12.000000       3.750000   16791.000000\n",
              "max     80995.000000   38970.000000   18287.000000"
            ]
          },
          "metadata": {
            "tags": []
          },
          "execution_count": 10
        }
      ]
    },
    {
      "cell_type": "markdown",
      "metadata": {
        "id": "UnAoB-E4_6EM"
      },
      "source": [
        "Clearly Quantity has negative values, probably due to returns."
      ]
    },
    {
      "cell_type": "code",
      "metadata": {
        "id": "hqMLdaRI-yhC"
      },
      "source": [
        "NegativeQuantity_tansactions = data_copy.query('Quantity < 0')[['InvoiceNo', 'StockCode', 'Description', 'Quantity', 'InvoiceDate', 'UnitPrice', 'CustomerID', 'Country']]"
      ],
      "execution_count": null,
      "outputs": []
    },
    {
      "cell_type": "code",
      "metadata": {
        "colab": {
          "base_uri": "https://localhost:8080/",
          "height": 589
        },
        "id": "BNY_-bfbAPjB",
        "outputId": "5a11e97c-1256-4d58-9182-d770fdf3c847"
      },
      "source": [
        "NegativeQuantity_tansactions"
      ],
      "execution_count": null,
      "outputs": [
        {
          "output_type": "execute_result",
          "data": {
            "text/html": [
              "<div>\n",
              "<style scoped>\n",
              "    .dataframe tbody tr th:only-of-type {\n",
              "        vertical-align: middle;\n",
              "    }\n",
              "\n",
              "    .dataframe tbody tr th {\n",
              "        vertical-align: top;\n",
              "    }\n",
              "\n",
              "    .dataframe thead th {\n",
              "        text-align: right;\n",
              "    }\n",
              "</style>\n",
              "<table border=\"1\" class=\"dataframe\">\n",
              "  <thead>\n",
              "    <tr style=\"text-align: right;\">\n",
              "      <th></th>\n",
              "      <th>InvoiceNo</th>\n",
              "      <th>StockCode</th>\n",
              "      <th>Description</th>\n",
              "      <th>Quantity</th>\n",
              "      <th>InvoiceDate</th>\n",
              "      <th>UnitPrice</th>\n",
              "      <th>CustomerID</th>\n",
              "      <th>Country</th>\n",
              "    </tr>\n",
              "  </thead>\n",
              "  <tbody>\n",
              "    <tr>\n",
              "      <th>141</th>\n",
              "      <td>C536379</td>\n",
              "      <td>D</td>\n",
              "      <td>Discount</td>\n",
              "      <td>-1</td>\n",
              "      <td>2010-12-01 09:41:00</td>\n",
              "      <td>27.50</td>\n",
              "      <td>14527.0</td>\n",
              "      <td>United Kingdom</td>\n",
              "    </tr>\n",
              "    <tr>\n",
              "      <th>154</th>\n",
              "      <td>C536383</td>\n",
              "      <td>35004C</td>\n",
              "      <td>SET OF 3 COLOURED  FLYING DUCKS</td>\n",
              "      <td>-1</td>\n",
              "      <td>2010-12-01 09:49:00</td>\n",
              "      <td>4.65</td>\n",
              "      <td>15311.0</td>\n",
              "      <td>United Kingdom</td>\n",
              "    </tr>\n",
              "    <tr>\n",
              "      <th>235</th>\n",
              "      <td>C536391</td>\n",
              "      <td>22556</td>\n",
              "      <td>PLASTERS IN TIN CIRCUS PARADE</td>\n",
              "      <td>-12</td>\n",
              "      <td>2010-12-01 10:24:00</td>\n",
              "      <td>1.65</td>\n",
              "      <td>17548.0</td>\n",
              "      <td>United Kingdom</td>\n",
              "    </tr>\n",
              "    <tr>\n",
              "      <th>236</th>\n",
              "      <td>C536391</td>\n",
              "      <td>21984</td>\n",
              "      <td>PACK OF 12 PINK PAISLEY TISSUES</td>\n",
              "      <td>-24</td>\n",
              "      <td>2010-12-01 10:24:00</td>\n",
              "      <td>0.29</td>\n",
              "      <td>17548.0</td>\n",
              "      <td>United Kingdom</td>\n",
              "    </tr>\n",
              "    <tr>\n",
              "      <th>237</th>\n",
              "      <td>C536391</td>\n",
              "      <td>21983</td>\n",
              "      <td>PACK OF 12 BLUE PAISLEY TISSUES</td>\n",
              "      <td>-24</td>\n",
              "      <td>2010-12-01 10:24:00</td>\n",
              "      <td>0.29</td>\n",
              "      <td>17548.0</td>\n",
              "      <td>United Kingdom</td>\n",
              "    </tr>\n",
              "    <tr>\n",
              "      <th>...</th>\n",
              "      <td>...</td>\n",
              "      <td>...</td>\n",
              "      <td>...</td>\n",
              "      <td>...</td>\n",
              "      <td>...</td>\n",
              "      <td>...</td>\n",
              "      <td>...</td>\n",
              "      <td>...</td>\n",
              "    </tr>\n",
              "    <tr>\n",
              "      <th>540449</th>\n",
              "      <td>C581490</td>\n",
              "      <td>23144</td>\n",
              "      <td>ZINC T-LIGHT HOLDER STARS SMALL</td>\n",
              "      <td>-11</td>\n",
              "      <td>2011-12-09 09:57:00</td>\n",
              "      <td>0.83</td>\n",
              "      <td>14397.0</td>\n",
              "      <td>United Kingdom</td>\n",
              "    </tr>\n",
              "    <tr>\n",
              "      <th>541541</th>\n",
              "      <td>C581499</td>\n",
              "      <td>M</td>\n",
              "      <td>Manual</td>\n",
              "      <td>-1</td>\n",
              "      <td>2011-12-09 10:28:00</td>\n",
              "      <td>224.69</td>\n",
              "      <td>15498.0</td>\n",
              "      <td>United Kingdom</td>\n",
              "    </tr>\n",
              "    <tr>\n",
              "      <th>541715</th>\n",
              "      <td>C581568</td>\n",
              "      <td>21258</td>\n",
              "      <td>VICTORIAN SEWING BOX LARGE</td>\n",
              "      <td>-5</td>\n",
              "      <td>2011-12-09 11:57:00</td>\n",
              "      <td>10.95</td>\n",
              "      <td>15311.0</td>\n",
              "      <td>United Kingdom</td>\n",
              "    </tr>\n",
              "    <tr>\n",
              "      <th>541716</th>\n",
              "      <td>C581569</td>\n",
              "      <td>84978</td>\n",
              "      <td>HANGING HEART JAR T-LIGHT HOLDER</td>\n",
              "      <td>-1</td>\n",
              "      <td>2011-12-09 11:58:00</td>\n",
              "      <td>1.25</td>\n",
              "      <td>17315.0</td>\n",
              "      <td>United Kingdom</td>\n",
              "    </tr>\n",
              "    <tr>\n",
              "      <th>541717</th>\n",
              "      <td>C581569</td>\n",
              "      <td>20979</td>\n",
              "      <td>36 PENCILS TUBE RED RETROSPOT</td>\n",
              "      <td>-5</td>\n",
              "      <td>2011-12-09 11:58:00</td>\n",
              "      <td>1.25</td>\n",
              "      <td>17315.0</td>\n",
              "      <td>United Kingdom</td>\n",
              "    </tr>\n",
              "  </tbody>\n",
              "</table>\n",
              "<p>8905 rows × 8 columns</p>\n",
              "</div>"
            ],
            "text/plain": [
              "       InvoiceNo StockCode  ... CustomerID         Country\n",
              "141      C536379         D  ...    14527.0  United Kingdom\n",
              "154      C536383    35004C  ...    15311.0  United Kingdom\n",
              "235      C536391     22556  ...    17548.0  United Kingdom\n",
              "236      C536391     21984  ...    17548.0  United Kingdom\n",
              "237      C536391     21983  ...    17548.0  United Kingdom\n",
              "...          ...       ...  ...        ...             ...\n",
              "540449   C581490     23144  ...    14397.0  United Kingdom\n",
              "541541   C581499         M  ...    15498.0  United Kingdom\n",
              "541715   C581568     21258  ...    15311.0  United Kingdom\n",
              "541716   C581569     84978  ...    17315.0  United Kingdom\n",
              "541717   C581569     20979  ...    17315.0  United Kingdom\n",
              "\n",
              "[8905 rows x 8 columns]"
            ]
          },
          "metadata": {
            "tags": []
          },
          "execution_count": 12
        }
      ]
    },
    {
      "cell_type": "markdown",
      "metadata": {
        "id": "7D6EvLoWAbwT"
      },
      "source": [
        "- Upon further inspection these values will be analyzed and removed from the data if a certain condition is met.\n",
        "- This condition is if the Monetary column is net negative\n"
      ]
    },
    {
      "cell_type": "code",
      "metadata": {
        "id": "lVV2nEckAVTb"
      },
      "source": [
        "data_copy['InvoiceDate'] = pd.to_datetime(data_copy['InvoiceDate'])"
      ],
      "execution_count": null,
      "outputs": []
    },
    {
      "cell_type": "code",
      "metadata": {
        "id": "AmvTn2Y2Aj4_"
      },
      "source": [
        "data_copy['TotalAmount'] = data_copy['Quantity'] * data_copy['UnitPrice']"
      ],
      "execution_count": null,
      "outputs": []
    },
    {
      "cell_type": "markdown",
      "metadata": {
        "id": "aPAfQFDkAsuM"
      },
      "source": [
        "- Creation of the TotalAmount column allows tracking of quantity leveling and removing possible outliers (ie. transactions that started in previous time period).\n"
      ]
    },
    {
      "cell_type": "markdown",
      "metadata": {
        "id": "dMcFczNIAqLC"
      },
      "source": [
        "## RFMLt Modelling\n",
        "\n",
        "1. Recency = Latest Date - Last Inovice Date\n",
        "2. Frequency = Count of invoice no. of transaction(s)\n",
        "3. Monetary = Sum of TotalAmount for each customer\n",
        "4. Lifetime = Latest Date - First Invoice Date\n"
      ]
    },
    {
      "cell_type": "code",
      "metadata": {
        "colab": {
          "base_uri": "https://localhost:8080/"
        },
        "id": "7aU3acW8A2JK",
        "outputId": "82626905-d1c8-4c5b-c38b-0f4eb0c09611"
      },
      "source": [
        "latest_date = data_copy['InvoiceDate'].max()\n",
        "latest_date"
      ],
      "execution_count": null,
      "outputs": [
        {
          "output_type": "execute_result",
          "data": {
            "text/plain": [
              "Timestamp('2011-12-09 12:50:00')"
            ]
          },
          "metadata": {
            "tags": []
          },
          "execution_count": 15
        }
      ]
    },
    {
      "cell_type": "code",
      "metadata": {
        "id": "1gsB3rtnBhXn"
      },
      "source": [
        "## Since we will have two features that use InvoiceDate, two are included.\n",
        "data_copy['InvoiceDate2'] = data_copy['InvoiceDate']"
      ],
      "execution_count": null,
      "outputs": []
    },
    {
      "cell_type": "code",
      "metadata": {
        "id": "aDw788ezBrOD"
      },
      "source": [
        "RFMTl = data_copy.groupby('CustomerID').agg({'InvoiceDate': lambda x: (latest_date - x.max()).days,\n",
        "                          'InvoiceNo': lambda x: len(x.unique()),\n",
        "                          'TotalAmount': lambda x: x.sum(),\n",
        "                          'InvoiceDate2': lambda x: (latest_date - x.min()).days})\n"
      ],
      "execution_count": null,
      "outputs": []
    },
    {
      "cell_type": "code",
      "metadata": {
        "id": "gFwz5EvwB7FZ"
      },
      "source": [
        "RFMTl['InvoiceDate'] = RFMTl['InvoiceDate'].astype(int)\n",
        "RFMTl['InvoiceDate2'] = RFMTl['InvoiceDate2'].astype(int)\n",
        "\n",
        "RFMTl.rename(columns={'InvoiceDate': 'Recency',\n",
        "                     'InvoiceNo': 'Frequency',\n",
        "                     'TotalAmount': 'Monetary',\n",
        "                     'InvoiceDate2': 'Lifetime'}, inplace=True)\n"
      ],
      "execution_count": null,
      "outputs": []
    },
    {
      "cell_type": "code",
      "metadata": {
        "colab": {
          "base_uri": "https://localhost:8080/",
          "height": 235
        },
        "id": "K6J6K3kdCE_3",
        "outputId": "8bd9520c-8d42-4353-f3e1-e9070173d39a"
      },
      "source": [
        "RFMTl.head()"
      ],
      "execution_count": null,
      "outputs": [
        {
          "output_type": "execute_result",
          "data": {
            "text/html": [
              "<div>\n",
              "<style scoped>\n",
              "    .dataframe tbody tr th:only-of-type {\n",
              "        vertical-align: middle;\n",
              "    }\n",
              "\n",
              "    .dataframe tbody tr th {\n",
              "        vertical-align: top;\n",
              "    }\n",
              "\n",
              "    .dataframe thead th {\n",
              "        text-align: right;\n",
              "    }\n",
              "</style>\n",
              "<table border=\"1\" class=\"dataframe\">\n",
              "  <thead>\n",
              "    <tr style=\"text-align: right;\">\n",
              "      <th></th>\n",
              "      <th>Recency</th>\n",
              "      <th>Frequency</th>\n",
              "      <th>Monetary</th>\n",
              "      <th>Lifetime</th>\n",
              "    </tr>\n",
              "    <tr>\n",
              "      <th>CustomerID</th>\n",
              "      <th></th>\n",
              "      <th></th>\n",
              "      <th></th>\n",
              "      <th></th>\n",
              "    </tr>\n",
              "  </thead>\n",
              "  <tbody>\n",
              "    <tr>\n",
              "      <th>12346.0</th>\n",
              "      <td>325</td>\n",
              "      <td>2</td>\n",
              "      <td>0.00</td>\n",
              "      <td>325</td>\n",
              "    </tr>\n",
              "    <tr>\n",
              "      <th>12347.0</th>\n",
              "      <td>1</td>\n",
              "      <td>7</td>\n",
              "      <td>4310.00</td>\n",
              "      <td>366</td>\n",
              "    </tr>\n",
              "    <tr>\n",
              "      <th>12348.0</th>\n",
              "      <td>74</td>\n",
              "      <td>4</td>\n",
              "      <td>1797.24</td>\n",
              "      <td>357</td>\n",
              "    </tr>\n",
              "    <tr>\n",
              "      <th>12349.0</th>\n",
              "      <td>18</td>\n",
              "      <td>1</td>\n",
              "      <td>1757.55</td>\n",
              "      <td>18</td>\n",
              "    </tr>\n",
              "    <tr>\n",
              "      <th>12350.0</th>\n",
              "      <td>309</td>\n",
              "      <td>1</td>\n",
              "      <td>334.40</td>\n",
              "      <td>309</td>\n",
              "    </tr>\n",
              "  </tbody>\n",
              "</table>\n",
              "</div>"
            ],
            "text/plain": [
              "            Recency  Frequency  Monetary  Lifetime\n",
              "CustomerID                                        \n",
              "12346.0         325          2      0.00       325\n",
              "12347.0           1          7   4310.00       366\n",
              "12348.0          74          4   1797.24       357\n",
              "12349.0          18          1   1757.55        18\n",
              "12350.0         309          1    334.40       309"
            ]
          },
          "metadata": {
            "tags": []
          },
          "execution_count": 19
        }
      ]
    },
    {
      "cell_type": "markdown",
      "metadata": {
        "id": "TLJWyCKGCQtr"
      },
      "source": [
        "Lets look for monetary net negatives"
      ]
    },
    {
      "cell_type": "code",
      "metadata": {
        "colab": {
          "base_uri": "https://localhost:8080/",
          "height": 1000
        },
        "id": "2gEzX3oYCKu3",
        "outputId": "e8877c26-2d44-4c8a-d52d-22a1b86921bc"
      },
      "source": [
        "monetar_net_negative = RFMTl.query('Monetary < 0')[['Recency','Frequency','Monetary','Lifetime']]\n",
        "monetar_net_negative"
      ],
      "execution_count": null,
      "outputs": [
        {
          "output_type": "execute_result",
          "data": {
            "text/html": [
              "<div>\n",
              "<style scoped>\n",
              "    .dataframe tbody tr th:only-of-type {\n",
              "        vertical-align: middle;\n",
              "    }\n",
              "\n",
              "    .dataframe tbody tr th {\n",
              "        vertical-align: top;\n",
              "    }\n",
              "\n",
              "    .dataframe thead th {\n",
              "        text-align: right;\n",
              "    }\n",
              "</style>\n",
              "<table border=\"1\" class=\"dataframe\">\n",
              "  <thead>\n",
              "    <tr style=\"text-align: right;\">\n",
              "      <th></th>\n",
              "      <th>Recency</th>\n",
              "      <th>Frequency</th>\n",
              "      <th>Monetary</th>\n",
              "      <th>Lifetime</th>\n",
              "    </tr>\n",
              "    <tr>\n",
              "      <th>CustomerID</th>\n",
              "      <th></th>\n",
              "      <th></th>\n",
              "      <th></th>\n",
              "      <th></th>\n",
              "    </tr>\n",
              "  </thead>\n",
              "  <tbody>\n",
              "    <tr>\n",
              "      <th>12454.0</th>\n",
              "      <td>52</td>\n",
              "      <td>2</td>\n",
              "      <td>-5.684342e-14</td>\n",
              "      <td>55</td>\n",
              "    </tr>\n",
              "    <tr>\n",
              "      <th>12503.0</th>\n",
              "      <td>337</td>\n",
              "      <td>1</td>\n",
              "      <td>-1.126000e+03</td>\n",
              "      <td>337</td>\n",
              "    </tr>\n",
              "    <tr>\n",
              "      <th>12505.0</th>\n",
              "      <td>300</td>\n",
              "      <td>1</td>\n",
              "      <td>-4.500000e+00</td>\n",
              "      <td>300</td>\n",
              "    </tr>\n",
              "    <tr>\n",
              "      <th>12605.0</th>\n",
              "      <td>364</td>\n",
              "      <td>1</td>\n",
              "      <td>-7.500000e+00</td>\n",
              "      <td>364</td>\n",
              "    </tr>\n",
              "    <tr>\n",
              "      <th>12666.0</th>\n",
              "      <td>358</td>\n",
              "      <td>1</td>\n",
              "      <td>-2.274400e+02</td>\n",
              "      <td>358</td>\n",
              "    </tr>\n",
              "    <tr>\n",
              "      <th>12870.0</th>\n",
              "      <td>365</td>\n",
              "      <td>1</td>\n",
              "      <td>-1.490000e+01</td>\n",
              "      <td>365</td>\n",
              "    </tr>\n",
              "    <tr>\n",
              "      <th>12943.0</th>\n",
              "      <td>300</td>\n",
              "      <td>1</td>\n",
              "      <td>-3.750000e+00</td>\n",
              "      <td>300</td>\n",
              "    </tr>\n",
              "    <tr>\n",
              "      <th>13154.0</th>\n",
              "      <td>143</td>\n",
              "      <td>1</td>\n",
              "      <td>-6.118600e+02</td>\n",
              "      <td>143</td>\n",
              "    </tr>\n",
              "    <tr>\n",
              "      <th>13672.0</th>\n",
              "      <td>300</td>\n",
              "      <td>6</td>\n",
              "      <td>-7.146000e+01</td>\n",
              "      <td>333</td>\n",
              "    </tr>\n",
              "    <tr>\n",
              "      <th>13693.0</th>\n",
              "      <td>324</td>\n",
              "      <td>2</td>\n",
              "      <td>-3.200000e+01</td>\n",
              "      <td>324</td>\n",
              "    </tr>\n",
              "    <tr>\n",
              "      <th>13762.0</th>\n",
              "      <td>203</td>\n",
              "      <td>2</td>\n",
              "      <td>-1.421085e-14</td>\n",
              "      <td>218</td>\n",
              "    </tr>\n",
              "    <tr>\n",
              "      <th>13829.0</th>\n",
              "      <td>358</td>\n",
              "      <td>1</td>\n",
              "      <td>-1.020000e+02</td>\n",
              "      <td>358</td>\n",
              "    </tr>\n",
              "    <tr>\n",
              "      <th>13958.0</th>\n",
              "      <td>371</td>\n",
              "      <td>1</td>\n",
              "      <td>-1.024500e+02</td>\n",
              "      <td>371</td>\n",
              "    </tr>\n",
              "    <tr>\n",
              "      <th>14119.0</th>\n",
              "      <td>353</td>\n",
              "      <td>1</td>\n",
              "      <td>-1.990000e+01</td>\n",
              "      <td>353</td>\n",
              "    </tr>\n",
              "    <tr>\n",
              "      <th>14213.0</th>\n",
              "      <td>371</td>\n",
              "      <td>1</td>\n",
              "      <td>-1.192200e+03</td>\n",
              "      <td>371</td>\n",
              "    </tr>\n",
              "    <tr>\n",
              "      <th>14437.0</th>\n",
              "      <td>142</td>\n",
              "      <td>2</td>\n",
              "      <td>-4.340000e+01</td>\n",
              "      <td>365</td>\n",
              "    </tr>\n",
              "    <tr>\n",
              "      <th>14627.0</th>\n",
              "      <td>311</td>\n",
              "      <td>1</td>\n",
              "      <td>-2.185000e+01</td>\n",
              "      <td>311</td>\n",
              "    </tr>\n",
              "    <tr>\n",
              "      <th>14679.0</th>\n",
              "      <td>371</td>\n",
              "      <td>1</td>\n",
              "      <td>-2.550000e+00</td>\n",
              "      <td>371</td>\n",
              "    </tr>\n",
              "    <tr>\n",
              "      <th>14777.0</th>\n",
              "      <td>3</td>\n",
              "      <td>2</td>\n",
              "      <td>-1.745000e+01</td>\n",
              "      <td>357</td>\n",
              "    </tr>\n",
              "    <tr>\n",
              "      <th>15369.0</th>\n",
              "      <td>143</td>\n",
              "      <td>1</td>\n",
              "      <td>-1.592490e+03</td>\n",
              "      <td>143</td>\n",
              "    </tr>\n",
              "    <tr>\n",
              "      <th>15590.0</th>\n",
              "      <td>288</td>\n",
              "      <td>1</td>\n",
              "      <td>-3.019000e+01</td>\n",
              "      <td>288</td>\n",
              "    </tr>\n",
              "    <tr>\n",
              "      <th>15638.0</th>\n",
              "      <td>300</td>\n",
              "      <td>1</td>\n",
              "      <td>-9.400000e+01</td>\n",
              "      <td>300</td>\n",
              "    </tr>\n",
              "    <tr>\n",
              "      <th>15728.0</th>\n",
              "      <td>48</td>\n",
              "      <td>1</td>\n",
              "      <td>-1.348000e+02</td>\n",
              "      <td>48</td>\n",
              "    </tr>\n",
              "    <tr>\n",
              "      <th>15802.0</th>\n",
              "      <td>142</td>\n",
              "      <td>3</td>\n",
              "      <td>-4.514200e+02</td>\n",
              "      <td>142</td>\n",
              "    </tr>\n",
              "    <tr>\n",
              "      <th>15823.0</th>\n",
              "      <td>336</td>\n",
              "      <td>2</td>\n",
              "      <td>-8.407600e+02</td>\n",
              "      <td>371</td>\n",
              "    </tr>\n",
              "    <tr>\n",
              "      <th>16061.0</th>\n",
              "      <td>268</td>\n",
              "      <td>1</td>\n",
              "      <td>-2.995000e+01</td>\n",
              "      <td>268</td>\n",
              "    </tr>\n",
              "    <tr>\n",
              "      <th>16138.0</th>\n",
              "      <td>367</td>\n",
              "      <td>1</td>\n",
              "      <td>-7.950000e+00</td>\n",
              "      <td>367</td>\n",
              "    </tr>\n",
              "    <tr>\n",
              "      <th>16252.0</th>\n",
              "      <td>365</td>\n",
              "      <td>1</td>\n",
              "      <td>-2.950900e+02</td>\n",
              "      <td>365</td>\n",
              "    </tr>\n",
              "    <tr>\n",
              "      <th>16262.0</th>\n",
              "      <td>360</td>\n",
              "      <td>1</td>\n",
              "      <td>-3.165000e+01</td>\n",
              "      <td>360</td>\n",
              "    </tr>\n",
              "    <tr>\n",
              "      <th>16428.0</th>\n",
              "      <td>80</td>\n",
              "      <td>1</td>\n",
              "      <td>-2.950000e+00</td>\n",
              "      <td>80</td>\n",
              "    </tr>\n",
              "    <tr>\n",
              "      <th>16454.0</th>\n",
              "      <td>44</td>\n",
              "      <td>3</td>\n",
              "      <td>-8.150000e+00</td>\n",
              "      <td>240</td>\n",
              "    </tr>\n",
              "    <tr>\n",
              "      <th>16546.0</th>\n",
              "      <td>290</td>\n",
              "      <td>3</td>\n",
              "      <td>-9.593000e+01</td>\n",
              "      <td>372</td>\n",
              "    </tr>\n",
              "    <tr>\n",
              "      <th>16579.0</th>\n",
              "      <td>364</td>\n",
              "      <td>1</td>\n",
              "      <td>-3.060000e+01</td>\n",
              "      <td>364</td>\n",
              "    </tr>\n",
              "    <tr>\n",
              "      <th>16995.0</th>\n",
              "      <td>371</td>\n",
              "      <td>1</td>\n",
              "      <td>-1.250000e+00</td>\n",
              "      <td>371</td>\n",
              "    </tr>\n",
              "    <tr>\n",
              "      <th>17065.0</th>\n",
              "      <td>142</td>\n",
              "      <td>1</td>\n",
              "      <td>-1.123500e+02</td>\n",
              "      <td>142</td>\n",
              "    </tr>\n",
              "    <tr>\n",
              "      <th>17307.0</th>\n",
              "      <td>364</td>\n",
              "      <td>1</td>\n",
              "      <td>-1.526400e+02</td>\n",
              "      <td>364</td>\n",
              "    </tr>\n",
              "    <tr>\n",
              "      <th>17448.0</th>\n",
              "      <td>144</td>\n",
              "      <td>1</td>\n",
              "      <td>-4.287630e+03</td>\n",
              "      <td>144</td>\n",
              "    </tr>\n",
              "    <tr>\n",
              "      <th>17547.0</th>\n",
              "      <td>371</td>\n",
              "      <td>1</td>\n",
              "      <td>-1.180000e+01</td>\n",
              "      <td>371</td>\n",
              "    </tr>\n",
              "    <tr>\n",
              "      <th>17548.0</th>\n",
              "      <td>217</td>\n",
              "      <td>3</td>\n",
              "      <td>-1.414800e+02</td>\n",
              "      <td>373</td>\n",
              "    </tr>\n",
              "    <tr>\n",
              "      <th>17603.0</th>\n",
              "      <td>49</td>\n",
              "      <td>5</td>\n",
              "      <td>-1.165300e+03</td>\n",
              "      <td>266</td>\n",
              "    </tr>\n",
              "    <tr>\n",
              "      <th>17820.0</th>\n",
              "      <td>190</td>\n",
              "      <td>2</td>\n",
              "      <td>-2.405000e+01</td>\n",
              "      <td>358</td>\n",
              "    </tr>\n",
              "    <tr>\n",
              "      <th>18141.0</th>\n",
              "      <td>360</td>\n",
              "      <td>1</td>\n",
              "      <td>-3.540000e+01</td>\n",
              "      <td>360</td>\n",
              "    </tr>\n",
              "    <tr>\n",
              "      <th>18256.0</th>\n",
              "      <td>354</td>\n",
              "      <td>1</td>\n",
              "      <td>-5.010000e+01</td>\n",
              "      <td>354</td>\n",
              "    </tr>\n",
              "    <tr>\n",
              "      <th>18274.0</th>\n",
              "      <td>17</td>\n",
              "      <td>2</td>\n",
              "      <td>-1.776357e-15</td>\n",
              "      <td>29</td>\n",
              "    </tr>\n",
              "  </tbody>\n",
              "</table>\n",
              "</div>"
            ],
            "text/plain": [
              "            Recency  Frequency      Monetary  Lifetime\n",
              "CustomerID                                            \n",
              "12454.0          52          2 -5.684342e-14        55\n",
              "12503.0         337          1 -1.126000e+03       337\n",
              "12505.0         300          1 -4.500000e+00       300\n",
              "12605.0         364          1 -7.500000e+00       364\n",
              "12666.0         358          1 -2.274400e+02       358\n",
              "12870.0         365          1 -1.490000e+01       365\n",
              "12943.0         300          1 -3.750000e+00       300\n",
              "13154.0         143          1 -6.118600e+02       143\n",
              "13672.0         300          6 -7.146000e+01       333\n",
              "13693.0         324          2 -3.200000e+01       324\n",
              "13762.0         203          2 -1.421085e-14       218\n",
              "13829.0         358          1 -1.020000e+02       358\n",
              "13958.0         371          1 -1.024500e+02       371\n",
              "14119.0         353          1 -1.990000e+01       353\n",
              "14213.0         371          1 -1.192200e+03       371\n",
              "14437.0         142          2 -4.340000e+01       365\n",
              "14627.0         311          1 -2.185000e+01       311\n",
              "14679.0         371          1 -2.550000e+00       371\n",
              "14777.0           3          2 -1.745000e+01       357\n",
              "15369.0         143          1 -1.592490e+03       143\n",
              "15590.0         288          1 -3.019000e+01       288\n",
              "15638.0         300          1 -9.400000e+01       300\n",
              "15728.0          48          1 -1.348000e+02        48\n",
              "15802.0         142          3 -4.514200e+02       142\n",
              "15823.0         336          2 -8.407600e+02       371\n",
              "16061.0         268          1 -2.995000e+01       268\n",
              "16138.0         367          1 -7.950000e+00       367\n",
              "16252.0         365          1 -2.950900e+02       365\n",
              "16262.0         360          1 -3.165000e+01       360\n",
              "16428.0          80          1 -2.950000e+00        80\n",
              "16454.0          44          3 -8.150000e+00       240\n",
              "16546.0         290          3 -9.593000e+01       372\n",
              "16579.0         364          1 -3.060000e+01       364\n",
              "16995.0         371          1 -1.250000e+00       371\n",
              "17065.0         142          1 -1.123500e+02       142\n",
              "17307.0         364          1 -1.526400e+02       364\n",
              "17448.0         144          1 -4.287630e+03       144\n",
              "17547.0         371          1 -1.180000e+01       371\n",
              "17548.0         217          3 -1.414800e+02       373\n",
              "17603.0          49          5 -1.165300e+03       266\n",
              "17820.0         190          2 -2.405000e+01       358\n",
              "18141.0         360          1 -3.540000e+01       360\n",
              "18256.0         354          1 -5.010000e+01       354\n",
              "18274.0          17          2 -1.776357e-15        29"
            ]
          },
          "metadata": {
            "tags": []
          },
          "execution_count": 20
        }
      ]
    },
    {
      "cell_type": "code",
      "metadata": {
        "id": "wuI38cPFEFT1"
      },
      "source": [
        "## Check a couple instances to see their net negative transaction history\n",
        "z_check17448 = data_copy.query('CustomerID == 17448')[['InvoiceNo', 'StockCode', 'Description', 'Quantity', 'InvoiceDate', 'UnitPrice', 'CustomerID', 'Country', 'TotalAmount']]\n",
        "z_check17603 = data_copy.query('CustomerID == 17603')[['InvoiceNo', 'StockCode', 'Description', 'Quantity', 'InvoiceDate', 'UnitPrice', 'CustomerID', 'Country', 'TotalAmount']]"
      ],
      "execution_count": null,
      "outputs": []
    },
    {
      "cell_type": "code",
      "metadata": {
        "colab": {
          "base_uri": "https://localhost:8080/",
          "height": 80
        },
        "id": "qjcQ-ybZEZvo",
        "outputId": "d1631c9e-2a50-4dd6-e14e-33233c8c0a06"
      },
      "source": [
        "z_check17448.head()\n"
      ],
      "execution_count": null,
      "outputs": [
        {
          "output_type": "execute_result",
          "data": {
            "text/html": [
              "<div>\n",
              "<style scoped>\n",
              "    .dataframe tbody tr th:only-of-type {\n",
              "        vertical-align: middle;\n",
              "    }\n",
              "\n",
              "    .dataframe tbody tr th {\n",
              "        vertical-align: top;\n",
              "    }\n",
              "\n",
              "    .dataframe thead th {\n",
              "        text-align: right;\n",
              "    }\n",
              "</style>\n",
              "<table border=\"1\" class=\"dataframe\">\n",
              "  <thead>\n",
              "    <tr style=\"text-align: right;\">\n",
              "      <th></th>\n",
              "      <th>InvoiceNo</th>\n",
              "      <th>StockCode</th>\n",
              "      <th>Description</th>\n",
              "      <th>Quantity</th>\n",
              "      <th>InvoiceDate</th>\n",
              "      <th>UnitPrice</th>\n",
              "      <th>CustomerID</th>\n",
              "      <th>Country</th>\n",
              "      <th>TotalAmount</th>\n",
              "    </tr>\n",
              "  </thead>\n",
              "  <tbody>\n",
              "    <tr>\n",
              "      <th>268027</th>\n",
              "      <td>C560372</td>\n",
              "      <td>M</td>\n",
              "      <td>Manual</td>\n",
              "      <td>-1</td>\n",
              "      <td>2011-07-18 12:26:00</td>\n",
              "      <td>4287.63</td>\n",
              "      <td>17448.0</td>\n",
              "      <td>United Kingdom</td>\n",
              "      <td>-4287.63</td>\n",
              "    </tr>\n",
              "  </tbody>\n",
              "</table>\n",
              "</div>"
            ],
            "text/plain": [
              "       InvoiceNo StockCode Description  ...  CustomerID         Country  TotalAmount\n",
              "268027   C560372         M      Manual  ...     17448.0  United Kingdom     -4287.63\n",
              "\n",
              "[1 rows x 9 columns]"
            ]
          },
          "metadata": {
            "tags": []
          },
          "execution_count": 22
        }
      ]
    },
    {
      "cell_type": "code",
      "metadata": {
        "colab": {
          "base_uri": "https://localhost:8080/",
          "height": 769
        },
        "id": "nDH-KkauEjbB",
        "outputId": "c36b51b7-60ba-43f6-c27e-d72fb817453d"
      },
      "source": [
        "z_check17603.head(20)"
      ],
      "execution_count": null,
      "outputs": [
        {
          "output_type": "execute_result",
          "data": {
            "text/html": [
              "<div>\n",
              "<style scoped>\n",
              "    .dataframe tbody tr th:only-of-type {\n",
              "        vertical-align: middle;\n",
              "    }\n",
              "\n",
              "    .dataframe tbody tr th {\n",
              "        vertical-align: top;\n",
              "    }\n",
              "\n",
              "    .dataframe thead th {\n",
              "        text-align: right;\n",
              "    }\n",
              "</style>\n",
              "<table border=\"1\" class=\"dataframe\">\n",
              "  <thead>\n",
              "    <tr style=\"text-align: right;\">\n",
              "      <th></th>\n",
              "      <th>InvoiceNo</th>\n",
              "      <th>StockCode</th>\n",
              "      <th>Description</th>\n",
              "      <th>Quantity</th>\n",
              "      <th>InvoiceDate</th>\n",
              "      <th>UnitPrice</th>\n",
              "      <th>CustomerID</th>\n",
              "      <th>Country</th>\n",
              "      <th>TotalAmount</th>\n",
              "    </tr>\n",
              "  </thead>\n",
              "  <tbody>\n",
              "    <tr>\n",
              "      <th>122282</th>\n",
              "      <td>C546859</td>\n",
              "      <td>M</td>\n",
              "      <td>Manual</td>\n",
              "      <td>-102</td>\n",
              "      <td>2011-03-17 14:39:00</td>\n",
              "      <td>5.45</td>\n",
              "      <td>17603.0</td>\n",
              "      <td>United Kingdom</td>\n",
              "      <td>-555.90</td>\n",
              "    </tr>\n",
              "    <tr>\n",
              "      <th>269176</th>\n",
              "      <td>C560435</td>\n",
              "      <td>M</td>\n",
              "      <td>Manual</td>\n",
              "      <td>-1</td>\n",
              "      <td>2011-07-18 16:01:00</td>\n",
              "      <td>294.92</td>\n",
              "      <td>17603.0</td>\n",
              "      <td>United Kingdom</td>\n",
              "      <td>-294.92</td>\n",
              "    </tr>\n",
              "    <tr>\n",
              "      <th>269177</th>\n",
              "      <td>C560436</td>\n",
              "      <td>M</td>\n",
              "      <td>Manual</td>\n",
              "      <td>-1</td>\n",
              "      <td>2011-07-18 16:04:00</td>\n",
              "      <td>705.45</td>\n",
              "      <td>17603.0</td>\n",
              "      <td>United Kingdom</td>\n",
              "      <td>-705.45</td>\n",
              "    </tr>\n",
              "    <tr>\n",
              "      <th>354250</th>\n",
              "      <td>567868</td>\n",
              "      <td>84949</td>\n",
              "      <td>SILVER HANGING T-LIGHT HOLDER</td>\n",
              "      <td>6</td>\n",
              "      <td>2011-09-22 14:18:00</td>\n",
              "      <td>1.65</td>\n",
              "      <td>17603.0</td>\n",
              "      <td>United Kingdom</td>\n",
              "      <td>9.90</td>\n",
              "    </tr>\n",
              "    <tr>\n",
              "      <th>354251</th>\n",
              "      <td>567868</td>\n",
              "      <td>22655</td>\n",
              "      <td>VINTAGE RED KITCHEN CABINET</td>\n",
              "      <td>2</td>\n",
              "      <td>2011-09-22 14:18:00</td>\n",
              "      <td>125.00</td>\n",
              "      <td>17603.0</td>\n",
              "      <td>United Kingdom</td>\n",
              "      <td>250.00</td>\n",
              "    </tr>\n",
              "    <tr>\n",
              "      <th>354252</th>\n",
              "      <td>567868</td>\n",
              "      <td>23396</td>\n",
              "      <td>LA JARDIN BOTANIQUE CUSHION COVER</td>\n",
              "      <td>4</td>\n",
              "      <td>2011-09-22 14:18:00</td>\n",
              "      <td>3.75</td>\n",
              "      <td>17603.0</td>\n",
              "      <td>United Kingdom</td>\n",
              "      <td>15.00</td>\n",
              "    </tr>\n",
              "    <tr>\n",
              "      <th>354253</th>\n",
              "      <td>567868</td>\n",
              "      <td>23395</td>\n",
              "      <td>BELLE JARDINIERE CUSHION COVER</td>\n",
              "      <td>4</td>\n",
              "      <td>2011-09-22 14:18:00</td>\n",
              "      <td>3.75</td>\n",
              "      <td>17603.0</td>\n",
              "      <td>United Kingdom</td>\n",
              "      <td>15.00</td>\n",
              "    </tr>\n",
              "    <tr>\n",
              "      <th>354254</th>\n",
              "      <td>567868</td>\n",
              "      <td>23513</td>\n",
              "      <td>EMBROIDERED RIBBON REEL SUSIE</td>\n",
              "      <td>6</td>\n",
              "      <td>2011-09-22 14:18:00</td>\n",
              "      <td>2.08</td>\n",
              "      <td>17603.0</td>\n",
              "      <td>United Kingdom</td>\n",
              "      <td>12.48</td>\n",
              "    </tr>\n",
              "    <tr>\n",
              "      <th>354255</th>\n",
              "      <td>567868</td>\n",
              "      <td>23511</td>\n",
              "      <td>EMBROIDERED RIBBON REEL EMILY</td>\n",
              "      <td>6</td>\n",
              "      <td>2011-09-22 14:18:00</td>\n",
              "      <td>2.08</td>\n",
              "      <td>17603.0</td>\n",
              "      <td>United Kingdom</td>\n",
              "      <td>12.48</td>\n",
              "    </tr>\n",
              "    <tr>\n",
              "      <th>354256</th>\n",
              "      <td>567868</td>\n",
              "      <td>23515</td>\n",
              "      <td>EMBROIDERED RIBBON REEL DAISY</td>\n",
              "      <td>6</td>\n",
              "      <td>2011-09-22 14:18:00</td>\n",
              "      <td>2.08</td>\n",
              "      <td>17603.0</td>\n",
              "      <td>United Kingdom</td>\n",
              "      <td>12.48</td>\n",
              "    </tr>\n",
              "    <tr>\n",
              "      <th>354257</th>\n",
              "      <td>567868</td>\n",
              "      <td>23514</td>\n",
              "      <td>EMBROIDERED RIBBON REEL SALLY</td>\n",
              "      <td>6</td>\n",
              "      <td>2011-09-22 14:18:00</td>\n",
              "      <td>2.08</td>\n",
              "      <td>17603.0</td>\n",
              "      <td>United Kingdom</td>\n",
              "      <td>12.48</td>\n",
              "    </tr>\n",
              "    <tr>\n",
              "      <th>354258</th>\n",
              "      <td>567868</td>\n",
              "      <td>22077</td>\n",
              "      <td>6 RIBBONS RUSTIC CHARM</td>\n",
              "      <td>12</td>\n",
              "      <td>2011-09-22 14:18:00</td>\n",
              "      <td>1.95</td>\n",
              "      <td>17603.0</td>\n",
              "      <td>United Kingdom</td>\n",
              "      <td>23.40</td>\n",
              "    </tr>\n",
              "    <tr>\n",
              "      <th>354259</th>\n",
              "      <td>567868</td>\n",
              "      <td>22082</td>\n",
              "      <td>RIBBON REEL STRIPES DESIGN</td>\n",
              "      <td>10</td>\n",
              "      <td>2011-09-22 14:18:00</td>\n",
              "      <td>1.65</td>\n",
              "      <td>17603.0</td>\n",
              "      <td>United Kingdom</td>\n",
              "      <td>16.50</td>\n",
              "    </tr>\n",
              "    <tr>\n",
              "      <th>354260</th>\n",
              "      <td>567868</td>\n",
              "      <td>84946</td>\n",
              "      <td>ANTIQUE SILVER T-LIGHT GLASS</td>\n",
              "      <td>12</td>\n",
              "      <td>2011-09-22 14:18:00</td>\n",
              "      <td>1.25</td>\n",
              "      <td>17603.0</td>\n",
              "      <td>United Kingdom</td>\n",
              "      <td>15.00</td>\n",
              "    </tr>\n",
              "    <tr>\n",
              "      <th>410580</th>\n",
              "      <td>C572117</td>\n",
              "      <td>23395</td>\n",
              "      <td>BELLE JARDINIERE CUSHION COVER</td>\n",
              "      <td>-1</td>\n",
              "      <td>2011-10-20 19:19:00</td>\n",
              "      <td>3.75</td>\n",
              "      <td>17603.0</td>\n",
              "      <td>United Kingdom</td>\n",
              "      <td>-3.75</td>\n",
              "    </tr>\n",
              "  </tbody>\n",
              "</table>\n",
              "</div>"
            ],
            "text/plain": [
              "       InvoiceNo StockCode  ...         Country  TotalAmount\n",
              "122282   C546859         M  ...  United Kingdom      -555.90\n",
              "269176   C560435         M  ...  United Kingdom      -294.92\n",
              "269177   C560436         M  ...  United Kingdom      -705.45\n",
              "354250    567868     84949  ...  United Kingdom         9.90\n",
              "354251    567868     22655  ...  United Kingdom       250.00\n",
              "354252    567868     23396  ...  United Kingdom        15.00\n",
              "354253    567868     23395  ...  United Kingdom        15.00\n",
              "354254    567868     23513  ...  United Kingdom        12.48\n",
              "354255    567868     23511  ...  United Kingdom        12.48\n",
              "354256    567868     23515  ...  United Kingdom        12.48\n",
              "354257    567868     23514  ...  United Kingdom        12.48\n",
              "354258    567868     22077  ...  United Kingdom        23.40\n",
              "354259    567868     22082  ...  United Kingdom        16.50\n",
              "354260    567868     84946  ...  United Kingdom        15.00\n",
              "410580   C572117     23395  ...  United Kingdom        -3.75\n",
              "\n",
              "[15 rows x 9 columns]"
            ]
          },
          "metadata": {
            "tags": []
          },
          "execution_count": 23
        }
      ]
    },
    {
      "cell_type": "markdown",
      "metadata": {
        "id": "MXooOQOUEzKm"
      },
      "source": [
        "All 44 cases will be treated as outliers as from data it cannot be inferred how a previous period transaction impacts the current period transactions; ie. there was a purchase in the previous and a return in current period\n"
      ]
    },
    {
      "cell_type": "code",
      "metadata": {
        "colab": {
          "base_uri": "https://localhost:8080/"
        },
        "id": "T6Y3kbemEvBY",
        "outputId": "d70213fd-4b92-46b0-f8ca-d68af3302d1d"
      },
      "source": [
        "RFMTl.drop(RFMTl[RFMTl.Monetary < 0].index,inplace=True)\n",
        "RFMTl.shape"
      ],
      "execution_count": null,
      "outputs": [
        {
          "output_type": "execute_result",
          "data": {
            "text/plain": [
              "(4328, 4)"
            ]
          },
          "metadata": {
            "tags": []
          },
          "execution_count": 24
        }
      ]
    },
    {
      "cell_type": "code",
      "metadata": {
        "id": "pBAtI16BFLqR"
      },
      "source": [
        "## There are three cases where Monetary had numbers small but not equal to 0\n",
        "## This function converts them to 0.\n",
        "def close_to_0(num):\n",
        "    \"\"\"\n",
        "    take a float and if it is less than 1, convert to 0\n",
        "    \"\"\"\n",
        "    if num < 1:\n",
        "        return 0\n",
        "    else:\n",
        "        return num\n",
        "\n",
        "RFMTl['Monetary'] = [close_to_0(x) for x in RFMTl.Monetary]\n"
      ],
      "execution_count": null,
      "outputs": []
    },
    {
      "cell_type": "markdown",
      "metadata": {
        "id": "6WnL9h04Fafq"
      },
      "source": [
        "## Correlation, distributions, outliers"
      ]
    },
    {
      "cell_type": "code",
      "metadata": {
        "colab": {
          "base_uri": "https://localhost:8080/"
        },
        "id": "YsdJn_32Fevs",
        "outputId": "161898ae-7b4b-4b18-bcf1-fc3689b6def0"
      },
      "source": [
        "RFMTl.info()"
      ],
      "execution_count": null,
      "outputs": [
        {
          "output_type": "stream",
          "text": [
            "<class 'pandas.core.frame.DataFrame'>\n",
            "Float64Index: 4328 entries, 12346.0 to 18287.0\n",
            "Data columns (total 4 columns):\n",
            " #   Column     Non-Null Count  Dtype  \n",
            "---  ------     --------------  -----  \n",
            " 0   Recency    4328 non-null   int64  \n",
            " 1   Frequency  4328 non-null   int64  \n",
            " 2   Monetary   4328 non-null   float64\n",
            " 3   Lifetime   4328 non-null   int64  \n",
            "dtypes: float64(1), int64(3)\n",
            "memory usage: 169.1 KB\n"
          ],
          "name": "stdout"
        }
      ]
    },
    {
      "cell_type": "code",
      "metadata": {
        "colab": {
          "base_uri": "https://localhost:8080/",
          "height": 596
        },
        "id": "0OxDB6i0FtB2",
        "outputId": "9559abee-40c5-4310-e74f-ec35dbb30d05"
      },
      "source": [
        "corrmatrix = RFMTl.corr()\n",
        "f, ax = plt.subplots(figsize=(14,10))\n",
        "mask = np.zeros(corrmatrix.shape, dtype=bool)\n",
        "mask[np.triu_indices(len(mask))] = True\n",
        "corg = sns.heatmap(corrmatrix, vmax=1, vmin=-1, annot=True, center = 0, mask = mask)\n"
      ],
      "execution_count": null,
      "outputs": [
        {
          "output_type": "display_data",
          "data": {
            "image/png": "[encoded data removed]",
            "text/plain": [
              "<Figure size 1008x720 with 2 Axes>"
            ]
          },
          "metadata": {
            "tags": [],
            "needs_background": "light"
          }
        }
      ]
    },
    {
      "cell_type": "markdown",
      "metadata": {
        "id": "9Acq3eHLF5vM"
      },
      "source": [
        "No particular intercorrelated variables."
      ]
    },
    {
      "cell_type": "code",
      "metadata": {
        "colab": {
          "base_uri": "https://localhost:8080/",
          "height": 851
        },
        "id": "3C1PJX2eF1RC",
        "outputId": "41092e46-e641-4cbc-e1b3-1981a50f6104"
      },
      "source": [
        "for n in RFMTl.columns:\n",
        "    if n != 'Frequency':\n",
        "        var = n\n",
        "        dat = pd.concat([RFMTl['Frequency'],RFMTl[var]], axis=1)\n",
        "        dat.plot.scatter(x=var, y='Frequency')\n",
        "        plt.title(str(n) + \" and Frequency\")\n",
        "        plt.show()\n"
      ],
      "execution_count": null,
      "outputs": [
        {
          "output_type": "display_data",
          "data": {
            "image/png": "[encoded data removed]",
            "text/plain": [
              "<Figure size 432x288 with 1 Axes>"
            ]
          },
          "metadata": {
            "tags": [],
            "needs_background": "light"
          }
        },
        {
          "output_type": "display_data",
          "data": {
            "image/png": "[encoded data removed]",
            "text/plain": [
              "<Figure size 432x288 with 1 Axes>"
            ]
          },
          "metadata": {
            "tags": [],
            "needs_background": "light"
          }
        },
        {
          "output_type": "display_data",
          "data": {
            "image/png": "[encoded data removed]",
            "text/plain": [
              "<Figure size 432x288 with 1 Axes>"
            ]
          },
          "metadata": {
            "tags": [],
            "needs_background": "light"
          }
        }
      ]
    },
    {
      "cell_type": "code",
      "metadata": {
        "colab": {
          "base_uri": "https://localhost:8080/",
          "height": 1000
        },
        "id": "FkCxok36GRQd",
        "outputId": "091664f0-cdb6-4fda-e2bc-78fff3e4a3ff"
      },
      "source": [
        "for n in RFMTl.columns:\n",
        "    sns.displot(RFMTl[n])\n",
        "    plt.title(n)\n",
        "    plt.show()"
      ],
      "execution_count": null,
      "outputs": [
        {
          "output_type": "display_data",
          "data": {
            "image/png": "[encoded data removed]",
            "text/plain": [
              "<Figure size 360x360 with 1 Axes>"
            ]
          },
          "metadata": {
            "tags": [],
            "needs_background": "light"
          }
        },
        {
          "output_type": "display_data",
          "data": {
            "image/png": "[encoded data removed]",
            "text/plain": [
              "<Figure size 360x360 with 1 Axes>"
            ]
          },
          "metadata": {
            "tags": [],
            "needs_background": "light"
          }
        },
        {
          "output_type": "display_data",
          "data": {
            "image/png": "[encoded data removed]",
            "text/plain": [
              "<Figure size 360x360 with 1 Axes>"
            ]
          },
          "metadata": {
            "tags": [],
            "needs_background": "light"
          }
        },
        {
          "output_type": "display_data",
          "data": {
            "image/png": "[encoded data removed]",
            "text/plain": [
              "<Figure size 360x360 with 1 Axes>"
            ]
          },
          "metadata": {
            "tags": [],
            "needs_background": "light"
          }
        }
      ]
    },
    {
      "cell_type": "markdown",
      "metadata": {
        "id": "Ak__0UNzG4ux"
      },
      "source": [
        "- The distributions show values that are expected and/or possible. There are no non-accounted for outliers in the current dataset.\n"
      ]
    },
    {
      "cell_type": "markdown",
      "metadata": {
        "id": "pRWpR2GUHNcv"
      },
      "source": [
        "Skewed data:\n",
        "- Transform data to reduce skewness in an attempt to develop an association\n",
        "- Do this by taking the log\n",
        "- Before applying the logistic transformation the values that are zero must be converted to 1, because the log of 0 is -infinity -- float inf cannot be converterd to int (another options is just taking the 3 root from the number, but log will do)\n"
      ]
    },
    {
      "cell_type": "code",
      "metadata": {
        "id": "-1SHPRHqICFN"
      },
      "source": [
        "def negative_and_zero(num):\n",
        "    \"\"\"\n",
        "    takes a number that is less than or equal to zero and \n",
        "    returns 1 for that number.\n",
        "    \"\"\"\n",
        "    if num <= 0:\n",
        "        return 1\n",
        "    else:\n",
        "        return num"
      ],
      "execution_count": null,
      "outputs": []
    },
    {
      "cell_type": "code",
      "metadata": {
        "id": "qnRhg4ZaK2cd"
      },
      "source": [
        "for n in RFMTl.columns:\n",
        "    RFMTl[n] = [negative_and_zero(x) for x in RFMTl[n]]\n"
      ],
      "execution_count": null,
      "outputs": []
    },
    {
      "cell_type": "markdown",
      "metadata": {
        "id": "VKW7mKSDQtyY"
      },
      "source": [
        "## Pipeline Trial"
      ]
    },
    {
      "cell_type": "markdown",
      "metadata": {
        "id": "rD2OjSDWILZG"
      },
      "source": [
        "Construct a pipeline that will apply the log transformation, followed by the RobustScaler to standardize data.\n",
        "- RobustScaler makes more sense than StandardScaler as the data is not normally distributed."
      ]
    },
    {
      "cell_type": "code",
      "metadata": {
        "colab": {
          "base_uri": "https://localhost:8080/"
        },
        "id": "DhE3NI8MImGw",
        "outputId": "92432c98-50f3-4e03-d823-e632ab228388"
      },
      "source": [
        "from sklearn.pipeline import Pipeline\n",
        "from sklearn.preprocessing import FunctionTransformer\n",
        "from imblearn.pipeline import Pipeline\n",
        "\n",
        "def log_transform(x):\n",
        "    \"\"\"\n",
        "    returns the log of value x\n",
        "    \"\"\"\n",
        "    return np.log(x)\n",
        "\n",
        "transformer = FunctionTransformer(log_transform)\n",
        "scaler = RobustScaler()\n",
        "\n",
        "transformation_pipeline = Pipeline(steps=[('transformer', transformer),\n",
        "                                          ('scaler', scaler)])\n",
        "\n",
        "transformation_pipeline.fit_transform(RFMTl)\n"
      ],
      "execution_count": null,
      "outputs": [
        {
          "output_type": "stream",
          "text": [
            "/usr/local/lib/python3.6/dist-packages/sklearn/externals/six.py:31: FutureWarning: The module is deprecated in version 0.21 and will be removed in version 0.23 since we've dropped support for Python 2.7. Please rely on the official version of six (https://pypi.org/project/six/).\n",
            "  \"(https://pypi.org/project/six/).\", FutureWarning)\n",
            "/usr/local/lib/python3.6/dist-packages/sklearn/utils/deprecation.py:144: FutureWarning: The sklearn.neighbors.base module is  deprecated in version 0.22 and will be removed in version 0.24. The corresponding classes / functions should instead be imported from sklearn.neighbors. Anything that cannot be imported from sklearn.neighbors is now part of the private API.\n",
            "  warnings.warn(message, FutureWarning)\n"
          ],
          "name": "stderr"
        },
        {
          "output_type": "execute_result",
          "data": {
            "text/plain": [
              "array([[ 0.88107095, -0.22629439, -3.85010569,  0.23737515],\n",
              "       [-1.81234722,  0.47288594,  1.11633438,  0.34823417],\n",
              "       [ 0.19197462,  0.16055842,  0.59724803,  0.32500245],\n",
              "       ...,\n",
              "       [-0.90617361,  0.        , -0.77963811, -0.65420564],\n",
              "       [-1.30074423,  0.93426404,  0.68819147,  0.26843405],\n",
              "       [-0.07178506,  0.        ,  0.61032425, -0.21099483]])"
            ]
          },
          "metadata": {
            "tags": []
          },
          "execution_count": 32
        }
      ]
    },
    {
      "cell_type": "code",
      "metadata": {
        "colab": {
          "base_uri": "https://localhost:8080/"
        },
        "id": "LN_SEX8sOEgH",
        "outputId": "c3d14178-9d54-41fa-c76a-573e4b5bb119"
      },
      "source": [
        "type(transformation_pipeline)"
      ],
      "execution_count": null,
      "outputs": [
        {
          "output_type": "execute_result",
          "data": {
            "text/plain": [
              "imblearn.pipeline.Pipeline"
            ]
          },
          "metadata": {
            "tags": []
          },
          "execution_count": 33
        }
      ]
    },
    {
      "cell_type": "code",
      "metadata": {
        "colab": {
          "base_uri": "https://localhost:8080/",
          "height": 235
        },
        "id": "YVpytKkIKjFQ",
        "outputId": "55fdc744-cd9d-4fa7-dd98-8afb914edb5e"
      },
      "source": [
        "RFMTl.head()"
      ],
      "execution_count": null,
      "outputs": [
        {
          "output_type": "execute_result",
          "data": {
            "text/html": [
              "<div>\n",
              "<style scoped>\n",
              "    .dataframe tbody tr th:only-of-type {\n",
              "        vertical-align: middle;\n",
              "    }\n",
              "\n",
              "    .dataframe tbody tr th {\n",
              "        vertical-align: top;\n",
              "    }\n",
              "\n",
              "    .dataframe thead th {\n",
              "        text-align: right;\n",
              "    }\n",
              "</style>\n",
              "<table border=\"1\" class=\"dataframe\">\n",
              "  <thead>\n",
              "    <tr style=\"text-align: right;\">\n",
              "      <th></th>\n",
              "      <th>Recency</th>\n",
              "      <th>Frequency</th>\n",
              "      <th>Monetary</th>\n",
              "      <th>Lifetime</th>\n",
              "    </tr>\n",
              "    <tr>\n",
              "      <th>CustomerID</th>\n",
              "      <th></th>\n",
              "      <th></th>\n",
              "      <th></th>\n",
              "      <th></th>\n",
              "    </tr>\n",
              "  </thead>\n",
              "  <tbody>\n",
              "    <tr>\n",
              "      <th>12346.0</th>\n",
              "      <td>325</td>\n",
              "      <td>2</td>\n",
              "      <td>1.00</td>\n",
              "      <td>325</td>\n",
              "    </tr>\n",
              "    <tr>\n",
              "      <th>12347.0</th>\n",
              "      <td>1</td>\n",
              "      <td>7</td>\n",
              "      <td>4310.00</td>\n",
              "      <td>366</td>\n",
              "    </tr>\n",
              "    <tr>\n",
              "      <th>12348.0</th>\n",
              "      <td>74</td>\n",
              "      <td>4</td>\n",
              "      <td>1797.24</td>\n",
              "      <td>357</td>\n",
              "    </tr>\n",
              "    <tr>\n",
              "      <th>12349.0</th>\n",
              "      <td>18</td>\n",
              "      <td>1</td>\n",
              "      <td>1757.55</td>\n",
              "      <td>18</td>\n",
              "    </tr>\n",
              "    <tr>\n",
              "      <th>12350.0</th>\n",
              "      <td>309</td>\n",
              "      <td>1</td>\n",
              "      <td>334.40</td>\n",
              "      <td>309</td>\n",
              "    </tr>\n",
              "  </tbody>\n",
              "</table>\n",
              "</div>"
            ],
            "text/plain": [
              "            Recency  Frequency  Monetary  Lifetime\n",
              "CustomerID                                        \n",
              "12346.0         325          2      1.00       325\n",
              "12347.0           1          7   4310.00       366\n",
              "12348.0          74          4   1797.24       357\n",
              "12349.0          18          1   1757.55        18\n",
              "12350.0         309          1    334.40       309"
            ]
          },
          "metadata": {
            "tags": []
          },
          "execution_count": 34
        }
      ]
    },
    {
      "cell_type": "markdown",
      "metadata": {
        "id": "NZIpd3oTQyVF"
      },
      "source": [
        "## Regular transformations\n",
        "Pipeline proved not to be ideal for KMeans as we don't know the ideal number of clusters, might revisit later."
      ]
    },
    {
      "cell_type": "code",
      "metadata": {
        "id": "Mo3nqvkAQ3E3"
      },
      "source": [
        "## Apply logistic transformation\n",
        "RFMTl_log_df = RFMTl[['Recency', 'Frequency', 'Monetary','Lifetime']].apply(np.log, axis = 1).round(3)"
      ],
      "execution_count": null,
      "outputs": []
    },
    {
      "cell_type": "code",
      "metadata": {
        "id": "y_KJ3McIQ3Jb"
      },
      "source": [
        "## Scaling data\n",
        "Scaler = RobustScaler()\n",
        "scaled_data = scaler.fit_transform(RFMTl_log_df)\n",
        "Scaled_Data = pd.DataFrame(scaled_data, index = RFMTl.index, columns = RFMTl_log_df.columns)"
      ],
      "execution_count": null,
      "outputs": []
    },
    {
      "cell_type": "code",
      "metadata": {
        "colab": {
          "base_uri": "https://localhost:8080/",
          "height": 235
        },
        "id": "52IPNB-HQ3Nc",
        "outputId": "bb266d10-3a14-41e0-f6e2-e165eb5842d8"
      },
      "source": [
        "Scaled_Data.head()"
      ],
      "execution_count": null,
      "outputs": [
        {
          "output_type": "execute_result",
          "data": {
            "text/html": [
              "<div>\n",
              "<style scoped>\n",
              "    .dataframe tbody tr th:only-of-type {\n",
              "        vertical-align: middle;\n",
              "    }\n",
              "\n",
              "    .dataframe tbody tr th {\n",
              "        vertical-align: top;\n",
              "    }\n",
              "\n",
              "    .dataframe thead th {\n",
              "        text-align: right;\n",
              "    }\n",
              "</style>\n",
              "<table border=\"1\" class=\"dataframe\">\n",
              "  <thead>\n",
              "    <tr style=\"text-align: right;\">\n",
              "      <th></th>\n",
              "      <th>Recency</th>\n",
              "      <th>Frequency</th>\n",
              "      <th>Monetary</th>\n",
              "      <th>Lifetime</th>\n",
              "    </tr>\n",
              "    <tr>\n",
              "      <th>CustomerID</th>\n",
              "      <th></th>\n",
              "      <th></th>\n",
              "      <th></th>\n",
              "      <th></th>\n",
              "    </tr>\n",
              "  </thead>\n",
              "  <tbody>\n",
              "    <tr>\n",
              "      <th>12346.0</th>\n",
              "      <td>0.881230</td>\n",
              "      <td>-0.226562</td>\n",
              "      <td>-3.849577</td>\n",
              "      <td>0.237873</td>\n",
              "    </tr>\n",
              "    <tr>\n",
              "      <th>12347.0</th>\n",
              "      <td>-1.812762</td>\n",
              "      <td>0.472656</td>\n",
              "      <td>1.116452</td>\n",
              "      <td>0.348881</td>\n",
              "    </tr>\n",
              "    <tr>\n",
              "      <th>12348.0</th>\n",
              "      <td>0.191896</td>\n",
              "      <td>0.160156</td>\n",
              "      <td>0.597241</td>\n",
              "      <td>0.325560</td>\n",
              "    </tr>\n",
              "    <tr>\n",
              "      <th>12349.0</th>\n",
              "      <td>-0.466698</td>\n",
              "      <td>-0.613281</td>\n",
              "      <td>0.584186</td>\n",
              "      <td>-2.461754</td>\n",
              "    </tr>\n",
              "    <tr>\n",
              "      <th>12350.0</th>\n",
              "      <td>0.857476</td>\n",
              "      <td>-0.613281</td>\n",
              "      <td>-0.400831</td>\n",
              "      <td>0.190299</td>\n",
              "    </tr>\n",
              "  </tbody>\n",
              "</table>\n",
              "</div>"
            ],
            "text/plain": [
              "             Recency  Frequency  Monetary  Lifetime\n",
              "CustomerID                                         \n",
              "12346.0     0.881230  -0.226562 -3.849577  0.237873\n",
              "12347.0    -1.812762   0.472656  1.116452  0.348881\n",
              "12348.0     0.191896   0.160156  0.597241  0.325560\n",
              "12349.0    -0.466698  -0.613281  0.584186 -2.461754\n",
              "12350.0     0.857476  -0.613281 -0.400831  0.190299"
            ]
          },
          "metadata": {
            "tags": []
          },
          "execution_count": 37
        }
      ]
    },
    {
      "cell_type": "markdown",
      "metadata": {
        "id": "8Vn2UTnaNgSK"
      },
      "source": [
        "# Modeling"
      ]
    },
    {
      "cell_type": "code",
      "metadata": {
        "id": "uZQkAnbvQB83"
      },
      "source": [
        "sum_of_sq_dist = {}\n",
        "for k in range(1,15):\n",
        "    km = KMeans(n_clusters= k, init= 'k-means++', max_iter= 1000)\n",
        "    km = km.fit(Scaled_Data)\n",
        "    sum_of_sq_dist[k] = km.inertia_"
      ],
      "execution_count": null,
      "outputs": []
    },
    {
      "cell_type": "code",
      "metadata": {
        "colab": {
          "base_uri": "https://localhost:8080/",
          "height": 295
        },
        "id": "18_u35B3QFYy",
        "outputId": "d62fd70f-2ea2-4d22-e41d-25756f19acc1"
      },
      "source": [
        "sns.pointplot(x = list(sum_of_sq_dist.keys()), y = list(sum_of_sq_dist.values()))\n",
        "plt.xlabel('Number of Clusters(k)')\n",
        "plt.ylabel('Sum of Squared Distances')\n",
        "plt.title('Elbow Method For Optimal k')\n",
        "plt.show()"
      ],
      "execution_count": null,
      "outputs": [
        {
          "output_type": "display_data",
          "data": {
            "image/png": "[encoded data removed]",
            "text/plain": [
              "<Figure size 432x288 with 1 Axes>"
            ]
          },
          "metadata": {
            "tags": [],
            "needs_background": "light"
          }
        }
      ]
    },
    {
      "cell_type": "markdown",
      "metadata": {
        "id": "fRaCC-MMa_eD"
      },
      "source": [
        "### My attempt to find the optimal number of clusters - algorithmically \n",
        "Based on the the elbow rule, the number is three, but here is an attempt to create a funciton that will find the number for me. "
      ]
    },
    {
      "cell_type": "code",
      "metadata": {
        "id": "Ya8szMUVRmWC"
      },
      "source": [
        "def optimal_clusters(d):\n",
        "    \"\"\"\n",
        "    the overall goal of this function is to find the optimal number of clusters\n",
        "    that the data provided should have. \n",
        "    This is found using the elbow rule, that is the point after which the sum of\n",
        "    squared distances abruptly stops decreasing, by a large amount.\n",
        "    This will be found by locating the second last value above a threshold. \n",
        "    The threshold is the average of the differences between each cluster's \n",
        "    sum of squared distances. The second last value is chosen because we offset\n",
        "    the cluster values by 1, as the key, value in the dictionary used indicates,\n",
        "    the the destination cluster, not the origin.\n",
        "    1. First step:\n",
        "    takes a dictionary with the key (#clusters): value (\n",
        "    sum of squared distances) and returns the key with its difference\n",
        "    from the previous sum of squared distances.\n",
        "    ex: \n",
        "    {   1: 9233.026215260757,\n",
        "        2: 5926.470552827595,\n",
        "        3: 3786.6321999641223\n",
        "    }\n",
        "    would result in: \n",
        "    {   1: 0 ## as it is origin point\n",
        "        2: 9233.026215260757 - 5926.470552827595 \n",
        "        3: 5926.470552827595 - 3786.6321999641223\n",
        "    }\n",
        "    At the same time, a threshold is being created. The distance differences are\n",
        "    being accumulated. \n",
        "    The optimal number of clusters will be above this threshold.\n",
        "    2. Second step:\n",
        "    At this stage of the function, the sum of distance differences is calculated.\n",
        "    3. Third step:\n",
        "    Following this in the later portion of the function, we iterate through the \n",
        "    key value pairs in the new dictionary that has the distance differences, \n",
        "    if the value for the key in the dictionary is greater than or equal to the \n",
        "    threshold, we append the value to the accumulator list.\n",
        "    Finally, we take the second last value from this list, as this is where the\n",
        "    elbow in the curve is. \n",
        "    \"\"\"\n",
        "    # return {} #stub\n",
        "    # output_dict is the accumulator\n",
        "    output_dict = {}\n",
        "    # threshold is the average of all of the distance changes between #clusters\n",
        "    sum = 0\n",
        "    for n in range(len(d)):\n",
        "        if n == 1:\n",
        "            output_dict[n] = 0\n",
        "        else:\n",
        "            for cluster, distance in d.items():\n",
        "                if n == cluster:\n",
        "                    output_dict[n] = d[n-1] - d[n]\n",
        "                    sum = sum + output_dict[n]\n",
        "    # loc is accumulating list for #clusters > threshold\n",
        "    loc = []\n",
        "    threshold=sum/(len(d)-1)\n",
        "    for cluster, distance_change in output_dict.items():\n",
        "        if distance_change >= threshold:\n",
        "            loc.append(cluster)\n",
        "\n",
        "    return loc[-2]"
      ],
      "execution_count": null,
      "outputs": []
    },
    {
      "cell_type": "code",
      "metadata": {
        "colab": {
          "base_uri": "https://localhost:8080/"
        },
        "id": "UEMBVbiKSCks",
        "outputId": "8c08c3c7-c4f5-40cd-9967-05fd6737b507"
      },
      "source": [
        "optimal_clusters(sum_of_sq_dist)"
      ],
      "execution_count": null,
      "outputs": [
        {
          "output_type": "execute_result",
          "data": {
            "text/plain": [
              "3"
            ]
          },
          "metadata": {
            "tags": []
          },
          "execution_count": 43
        }
      ]
    },
    {
      "cell_type": "markdown",
      "metadata": {
        "id": "pzJJBHjzdR-h"
      },
      "source": [
        "## Modeling with ideal number of clusters"
      ]
    },
    {
      "cell_type": "code",
      "metadata": {
        "id": "NA1SPBJCVFfC"
      },
      "source": [
        "KMean_cluster = KMeans(n_clusters= 3, init= 'k-means++', max_iter= 1000)\n",
        "KMean_cluster.fit(Scaled_Data)\n",
        "\n",
        "RFMTl['Cluster'] = KMean_cluster.labels_\n",
        "\n",
        "colors = [\"red\", \"yellow\", \"blue\", ]\n",
        "RFMTl['Color'] = RFMTl['Cluster'].map(lambda p: colors[p])\n"
      ],
      "execution_count": null,
      "outputs": []
    },
    {
      "cell_type": "code",
      "metadata": {
        "colab": {
          "base_uri": "https://localhost:8080/"
        },
        "id": "p90PEGOTaVeR",
        "outputId": "b6bdca62-d72a-49f5-e302-dd7c7efcf569"
      },
      "source": [
        "RFMTl['Cluster'].value_counts()"
      ],
      "execution_count": null,
      "outputs": [
        {
          "output_type": "execute_result",
          "data": {
            "text/plain": [
              "2    1800\n",
              "1    1574\n",
              "0     954\n",
              "Name: Cluster, dtype: int64"
            ]
          },
          "metadata": {
            "tags": []
          },
          "execution_count": 45
        }
      ]
    },
    {
      "cell_type": "code",
      "metadata": {
        "colab": {
          "base_uri": "https://localhost:8080/",
          "height": 513
        },
        "id": "PKwLghl8aVks",
        "outputId": "4f1ad2d8-f4fa-461e-e127-412745046109"
      },
      "source": [
        "##Scatter Plot Frequency Vs Recency\n",
        "\n",
        "ax = RFMTl.plot(\n",
        "    kind=\"scatter\",\n",
        "    x=\"Recency\", y=\"Frequency\",\n",
        "    title = 'Recency and Frequency',\n",
        "    figsize=(12,8),\n",
        "    c = RFMTl['Color']\n",
        ")"
      ],
      "execution_count": null,
      "outputs": [
        {
          "output_type": "display_data",
          "data": {
            "image/png": "[encoded data removed]",
            "text/plain": [
              "<Figure size 864x576 with 1 Axes>"
            ]
          },
          "metadata": {
            "tags": [],
            "needs_background": "light"
          }
        }
      ]
    },
    {
      "cell_type": "code",
      "metadata": {
        "colab": {
          "base_uri": "https://localhost:8080/",
          "height": 513
        },
        "id": "lReKAXadaf-Z",
        "outputId": "edb2648e-0641-4714-b191-e7aa6aaded6d"
      },
      "source": [
        "ax = RFMTl.plot(\n",
        "    kind=\"scatter\",\n",
        "    x=\"Monetary\", y=\"Frequency\",\n",
        "    title = 'Monetary and Frequency',\n",
        "    figsize=(12,8),\n",
        "    c = RFMTl['Color']\n",
        ")"
      ],
      "execution_count": null,
      "outputs": [
        {
          "output_type": "display_data",
          "data": {
            "image/png": "[encoded data removed]",
            "text/plain": [
              "<Figure size 864x576 with 1 Axes>"
            ]
          },
          "metadata": {
            "tags": [],
            "needs_background": "light"
          }
        }
      ]
    },
    {
      "cell_type": "code",
      "metadata": {
        "colab": {
          "base_uri": "https://localhost:8080/",
          "height": 513
        },
        "id": "KLxnhfvIb5pE",
        "outputId": "17cca9b0-1521-4622-863f-abb421d48d64"
      },
      "source": [
        "ax = RFMTl.plot(\n",
        "    kind=\"scatter\",\n",
        "    x=\"Lifetime\", y=\"Frequency\",\n",
        "    title = 'Lifetime and Frequency',\n",
        "    figsize=(12,8),\n",
        "    c = RFMTl['Color']\n",
        ")"
      ],
      "execution_count": null,
      "outputs": [
        {
          "output_type": "display_data",
          "data": {
            "image/png": "[encoded data removed]",
            "text/plain": [
              "<Figure size 864x576 with 1 Axes>"
            ]
          },
          "metadata": {
            "tags": [],
            "needs_background": "light"
          }
        }
      ]
    },
    {
      "cell_type": "code",
      "metadata": {
        "colab": {
          "base_uri": "https://localhost:8080/",
          "height": 513
        },
        "id": "NPYatZA2b8CB",
        "outputId": "360151e9-31e7-4f8a-ea64-a392e16da284"
      },
      "source": [
        "ax = RFMTl.plot(\n",
        "    kind=\"scatter\",\n",
        "    x=\"Recency\", y=\"Lifetime\",\n",
        "    title= 'Recency and Lifetime',\n",
        "    figsize=(12,8),\n",
        "    c = RFMTl['Color']\n",
        ")"
      ],
      "execution_count": null,
      "outputs": [
        {
          "output_type": "display_data",
          "data": {
            "image/png": "[encoded data removed]",
            "text/plain": [
              "<Figure size 864x576 with 1 Axes>"
            ]
          },
          "metadata": {
            "tags": [],
            "needs_background": "light"
          }
        }
      ]
    },
    {
      "cell_type": "code",
      "metadata": {
        "colab": {
          "base_uri": "https://localhost:8080/",
          "height": 513
        },
        "id": "2YwzT7P9cCtq",
        "outputId": "e293d691-2dad-4cdc-c295-f58dc2a2fe77"
      },
      "source": [
        "ax = RFMTl.plot(\n",
        "    kind=\"scatter\",\n",
        "    x=\"Monetary\", y=\"Lifetime\",\n",
        "    title = 'Monetary and Lifetime',\n",
        "    figsize=(12,8),\n",
        "    c = RFMTl['Color']\n",
        ")"
      ],
      "execution_count": null,
      "outputs": [
        {
          "output_type": "display_data",
          "data": {
            "image/png": "[encoded data removed]",
            "text/plain": [
              "<Figure size 864x576 with 1 Axes>"
            ]
          },
          "metadata": {
            "tags": [],
            "needs_background": "light"
          }
        }
      ]
    },
    {
      "cell_type": "code",
      "metadata": {
        "colab": {
          "base_uri": "https://localhost:8080/",
          "height": 513
        },
        "id": "1Sn_U_LNcHE0",
        "outputId": "09bdb7b8-e2de-44f6-fc81-dec3645f9ac2"
      },
      "source": [
        "ax = RFMTl.plot(\n",
        "    kind=\"scatter\",\n",
        "    x=\"Monetary\", y=\"Recency\",\n",
        "    title='Monetary and Recency',\n",
        "    figsize=(12,8),\n",
        "    c = RFMTl['Color']\n",
        ")"
      ],
      "execution_count": null,
      "outputs": [
        {
          "output_type": "display_data",
          "data": {
            "image/png": "[encoded data removed]",
            "text/plain": [
              "<Figure size 864x576 with 1 Axes>"
            ]
          },
          "metadata": {
            "tags": [],
            "needs_background": "light"
          }
        }
      ]
    },
    {
      "cell_type": "markdown",
      "metadata": {
        "id": "VwUE_IuxcL9r"
      },
      "source": [
        "# Evaluation of Customer Segments"
      ]
    },
    {
      "cell_type": "code",
      "metadata": {
        "colab": {
          "base_uri": "https://localhost:8080/"
        },
        "id": "chKbrIk3cWSH",
        "outputId": "6c14bd0d-1308-4359-c2cb-08c2d2b1b5e8"
      },
      "source": [
        "for n in range(3):\n",
        "    print(RFMTl.query('Cluster =='+str(n))[RFMTl.columns].describe())"
      ],
      "execution_count": null,
      "outputs": [
        {
          "output_type": "stream",
          "text": [
            "          Recency   Frequency      Monetary    Lifetime  Cluster\n",
            "count  954.000000  954.000000    954.000000  954.000000    954.0\n",
            "mean    35.206499    1.718029    522.597758   49.080713      0.0\n",
            "std     24.636376    1.164871    688.327914   26.540527      0.0\n",
            "min      1.000000    1.000000      1.000000    1.000000      0.0\n",
            "25%     15.000000    1.000000    198.105000   28.000000      0.0\n",
            "50%     30.000000    1.000000    354.840000   49.000000      0.0\n",
            "75%     55.000000    2.000000    648.007500   70.000000      0.0\n",
            "max     89.000000   10.000000  12393.700000  205.000000      0.0\n",
            "           Recency    Frequency       Monetary    Lifetime  Cluster\n",
            "count  1574.000000  1574.000000    1574.000000  1574.00000   1574.0\n",
            "mean     24.780813    10.556544    4391.989079   293.00953      1.0\n",
            "std      31.505228    13.870953   13321.829435    80.01777      0.0\n",
            "min       1.000000     2.000000     178.960000    53.00000      1.0\n",
            "25%       5.000000     5.000000    1301.987500   246.00000      1.0\n",
            "50%      15.000000     7.000000    2118.215000   316.00000      1.0\n",
            "75%      31.000000    12.000000    3717.782500   364.00000      1.0\n",
            "max     305.000000   248.000000  279489.020000   373.00000      1.0\n",
            "           Recency    Frequency     Monetary     Lifetime  Cluster\n",
            "count  1800.000000  1800.000000  1800.000000  1800.000000   1800.0\n",
            "mean    174.595000     2.147778   500.976046   256.623889      2.0\n",
            "std      99.813633     1.333848   433.149623    79.155410      0.0\n",
            "min       6.000000     1.000000     1.000000    89.000000      2.0\n",
            "25%      91.000000     1.000000   207.500000   196.000000      2.0\n",
            "50%     168.000000     2.000000   377.400000   263.000000      2.0\n",
            "75%     254.000000     3.000000   648.997500   319.000000      2.0\n",
            "max     373.000000     9.000000  4873.810000   373.000000      2.0\n"
          ],
          "name": "stdout"
        }
      ]
    },
    {
      "cell_type": "markdown",
      "metadata": {
        "id": "G5OVxuOJdFlV"
      },
      "source": [
        "Looking at the 50% we can make inferences on what makes up each cluster, that is customer segment:\n",
        "- Cluster 0: They made a transaction least recently, bought barely more than the least frequent segment, spent marginally more than the least spending segment, and have been with the company for some time - locked in the middle of the other two segments. \n",
        "- Cluster 1: This cluster is characterized by buying the most recently, the most frequently, spending the most money of all three segments, and are a customer for the longest period of time. \n",
        "- Cluster 2: They bought somewhat recently (between the other two segments), do not buy frequently at all, spent the least amount of money, and have been a customer with the company for the least amount of time."
      ]
    },
    {
      "cell_type": "code",
      "metadata": {
        "id": "0aJ4RBmzg2lL"
      },
      "source": [
        ""
      ],
      "execution_count": null,
      "outputs": []
    }
  ]
}